{
  "cells": [
    {
      "cell_type": "code",
      "execution_count": null,
      "id": "ebb27365",
      "metadata": {
        "id": "ebb27365"
      },
      "outputs": [],
      "source": [
        "import pyspark\n",
        "from pyspark.sql import SparkSession\n",
        "import pandas as pd\n",
        "import numpy as np\n",
        "import seaborn as sns\n",
        "from matplotlib import pyplot as plt\n",
        "from pyspark.sql.functions import col"
      ]
    },
    {
      "cell_type": "code",
      "execution_count": null,
      "id": "8f6c0111",
      "metadata": {
        "id": "8f6c0111"
      },
      "outputs": [],
      "source": [
        "spark = SparkSession.builder.appName(\"Offence_Database\").getOrCreate()"
      ]
    },
    {
      "cell_type": "markdown",
      "id": "372aeceb",
      "metadata": {
        "id": "372aeceb"
      },
      "source": [
        "# Importing The Worksheets"
      ]
    },
    {
      "cell_type": "code",
      "execution_count": null,
      "id": "8f29957a",
      "metadata": {
        "id": "8f29957a"
      },
      "outputs": [],
      "source": [
        "df_2013_14 = spark.read.csv(\"C:/Users/Emeka/Downloads/2013-14.csv\", header=True, inferSchema=True)"
      ]
    },
    {
      "cell_type": "code",
      "execution_count": null,
      "id": "e4113a8c",
      "metadata": {
        "id": "e4113a8c"
      },
      "outputs": [],
      "source": [
        "df_2014_15 = spark.read.csv(\"C:/Users/Emeka/Downloads/2014-15.csv\", header=True, inferSchema=True)"
      ]
    },
    {
      "cell_type": "code",
      "execution_count": null,
      "id": "47fff6ef",
      "metadata": {
        "id": "47fff6ef"
      },
      "outputs": [],
      "source": [
        "df_2015_16 = spark.read.csv(\"C:/Users/Emeka/Downloads/2015-16.csv\", header=True, inferSchema=True)"
      ]
    },
    {
      "cell_type": "code",
      "execution_count": null,
      "id": "e444c07b",
      "metadata": {
        "id": "e444c07b"
      },
      "outputs": [],
      "source": [
        "df_2016_17 = spark.read.csv(\"C:/Users/Emeka/Downloads/2016-17.csv\", header=True, inferSchema=True)"
      ]
    },
    {
      "cell_type": "code",
      "execution_count": null,
      "id": "72929d03",
      "metadata": {
        "id": "72929d03"
      },
      "outputs": [],
      "source": [
        "df_2017_18 = spark.read.csv(\"C:/Users/Emeka/Downloads/2017-18.csv\", header=True, inferSchema=True)"
      ]
    },
    {
      "cell_type": "code",
      "execution_count": null,
      "id": "e684502e",
      "metadata": {
        "id": "e684502e",
        "outputId": "8aefa9af-7b58-4949-e2b8-38060c198d76"
      },
      "outputs": [
        {
          "name": "stdout",
          "output_type": "stream",
          "text": [
            "+--------------+-----------------+-----------------+--------------------+--------------------+--------------------+------------+------------------+\n",
            "|Financial Year|Financial Quarter|       Force Name| Offence Description|       Offence Group|    Offence Subgroup|Offence Code|Number of Offences|\n",
            "+--------------+-----------------+-----------------+--------------------+--------------------+--------------------+------------+------------------+\n",
            "|       2013/14|                1|Avon and Somerset|Absconding from l...|Miscellaneous cri...|Miscellaneous cri...|          80|                 4|\n",
            "|       2013/14|                1|Avon and Somerset|Abuse of children...|     Sexual offences|Other sexual offe...|          71|                 0|\n",
            "|       2013/14|                1|Avon and Somerset|Abuse of position...|     Sexual offences|Other sexual offe...|          73|                 8|\n",
            "+--------------+-----------------+-----------------+--------------------+--------------------+--------------------+------------+------------------+\n",
            "only showing top 3 rows\n",
            "\n",
            "20780 rows\n",
            "8 columns\n"
          ]
        }
      ],
      "source": [
        "df_2013_14.show(3)\n",
        "print(df_2013_14.count(), \"rows\")\n",
        "print (len(df_2013_14.columns), \"columns\")"
      ]
    },
    {
      "cell_type": "code",
      "execution_count": null,
      "id": "306d12b3",
      "metadata": {
        "id": "306d12b3",
        "outputId": "f113a341-513f-4dcf-fb83-533cb603d247"
      },
      "outputs": [
        {
          "name": "stdout",
          "output_type": "stream",
          "text": [
            "+--------------+-----------------+-----------------+--------------------+--------------------+--------------------+------------+------------------+\n",
            "|Financial Year|Financial Quarter|       Force Name| Offence Description|       Offence Group|    Offence Subgroup|Offence Code|Number of Offences|\n",
            "+--------------+-----------------+-----------------+--------------------+--------------------+--------------------+------------+------------------+\n",
            "|       2014/15|                1|Avon and Somerset|Absconding from l...|Miscellaneous cri...|Miscellaneous cri...|          80|                 3|\n",
            "|       2014/15|                1|Avon and Somerset|Abuse of children...|     Sexual offences|Other sexual offe...|          71|                 3|\n",
            "|       2014/15|                1|Avon and Somerset|Abuse of position...|     Sexual offences|Other sexual offe...|          73|                 3|\n",
            "+--------------+-----------------+-----------------+--------------------+--------------------+--------------------+------------+------------------+\n",
            "only showing top 3 rows\n",
            "\n",
            "21132 rows\n",
            "8 columns\n"
          ]
        }
      ],
      "source": [
        "df_2014_15.show(3)\n",
        "print(df_2014_15.count(),\"rows\")\n",
        "print (len(df_2014_15.columns),\"columns\")"
      ]
    },
    {
      "cell_type": "code",
      "execution_count": null,
      "id": "e5f6272d",
      "metadata": {
        "id": "e5f6272d",
        "outputId": "4c47f3d1-e993-4b5b-a5d9-69d4756c3b35"
      },
      "outputs": [
        {
          "name": "stdout",
          "output_type": "stream",
          "text": [
            "+--------------+-----------------+-----------------+--------------------+--------------------+--------------------+------------+------------------+\n",
            "|Financial Year|Financial Quarter|       Force Name| Offence Description|       Offence Group|    Offence Subgroup|Offence Code|Number of Offences|\n",
            "+--------------+-----------------+-----------------+--------------------+--------------------+--------------------+------------+------------------+\n",
            "|       2015/16|                1|Avon and Somerset|Absconding from l...|Miscellaneous cri...|Miscellaneous cri...|          80|                 3|\n",
            "|       2015/16|                1|Avon and Somerset|Abuse of children...|     Sexual offences|Other sexual offe...|          71|                 3|\n",
            "|       2015/16|                1|Avon and Somerset|Abuse of position...|     Sexual offences|Other sexual offe...|          73|                 5|\n",
            "+--------------+-----------------+-----------------+--------------------+--------------------+--------------------+------------+------------------+\n",
            "only showing top 3 rows\n",
            "\n",
            "21308 rows\n",
            "8 columns\n"
          ]
        }
      ],
      "source": [
        "df_2015_16.show(3)\n",
        "print(df_2015_16.count(),\"rows\")\n",
        "print (len(df_2015_16.columns),\"columns\")"
      ]
    },
    {
      "cell_type": "code",
      "execution_count": null,
      "id": "73823a14",
      "metadata": {
        "id": "73823a14",
        "outputId": "72eb8ffd-6480-4d20-ce94-1495b5709c51"
      },
      "outputs": [
        {
          "name": "stdout",
          "output_type": "stream",
          "text": [
            "+--------------+-----------------+-----------------+--------------------+--------------------+--------------------+------------+------------------+\n",
            "|Financial Year|Financial Quarter|       Force Name| Offence Description|       Offence Group|    Offence Subgroup|Offence Code|Number of Offences|\n",
            "+--------------+-----------------+-----------------+--------------------+--------------------+--------------------+------------+------------------+\n",
            "|       2016/17|                1|Avon and Somerset|Absconding from l...|Miscellaneous cri...|Miscellaneous cri...|          80|                 7|\n",
            "|       2016/17|                1|Avon and Somerset|Abuse of children...|     Sexual offences|Other sexual offe...|          71|                 5|\n",
            "|       2016/17|                1|Avon and Somerset|Abuse of position...|     Sexual offences|Other sexual offe...|          73|                 4|\n",
            "+--------------+-----------------+-----------------+--------------------+--------------------+--------------------+------------+------------------+\n",
            "only showing top 3 rows\n",
            "\n",
            "21308 rows\n",
            "8 columns\n"
          ]
        }
      ],
      "source": [
        "df_2016_17.show(3)\n",
        "print(df_2016_17.count(),\"rows\")\n",
        "print (len(df_2016_17.columns),\"columns\")"
      ]
    },
    {
      "cell_type": "code",
      "execution_count": null,
      "id": "5cf3c23f",
      "metadata": {
        "id": "5cf3c23f",
        "outputId": "f16cafae-e219-4a57-e28d-fbecee745b58"
      },
      "outputs": [
        {
          "name": "stdout",
          "output_type": "stream",
          "text": [
            "+--------------+-----------------+-----------------+--------------------+--------------------+--------------------+------------+------------------+\n",
            "|Financial Year|Financial Quarter|       Force Name| Offence Description|       Offence Group|    Offence Subgroup|Offence Code|Number of Offences|\n",
            "+--------------+-----------------+-----------------+--------------------+--------------------+--------------------+------------+------------------+\n",
            "|       2017/18|                1|Avon and Somerset|Absconding from l...|Miscellaneous cri...|Miscellaneous cri...|          80|                 2|\n",
            "|       2017/18|                1|Avon and Somerset|Abuse of children...|     Sexual offences|Other sexual offe...|          71|                 6|\n",
            "|       2017/18|                1|Avon and Somerset|Abuse of position...|     Sexual offences|Other sexual offe...|          73|                 1|\n",
            "+--------------+-----------------+-----------------+--------------------+--------------------+--------------------+------------+------------------+\n",
            "only showing top 3 rows\n",
            "\n",
            "23068 rows\n",
            "8 columns\n"
          ]
        }
      ],
      "source": [
        "df_2017_18.show(3)\n",
        "print(df_2017_18.count(),\"rows\")\n",
        "print (len(df_2017_18.columns),\"columns\")"
      ]
    },
    {
      "cell_type": "markdown",
      "id": "a0586538",
      "metadata": {
        "id": "a0586538"
      },
      "source": [
        "# Analysing Each Schema Before Merging"
      ]
    },
    {
      "cell_type": "code",
      "execution_count": null,
      "id": "aad9c146",
      "metadata": {
        "id": "aad9c146",
        "outputId": "75bc5da7-7d70-4e12-8e6c-444be8da1999"
      },
      "outputs": [
        {
          "name": "stdout",
          "output_type": "stream",
          "text": [
            "root\n",
            " |-- Financial Year: string (nullable = true)\n",
            " |-- Financial Quarter: integer (nullable = true)\n",
            " |-- Force Name: string (nullable = true)\n",
            " |-- Offence Description: string (nullable = true)\n",
            " |-- Offence Group: string (nullable = true)\n",
            " |-- Offence Subgroup: string (nullable = true)\n",
            " |-- Offence Code: string (nullable = true)\n",
            " |-- Number of Offences: integer (nullable = true)\n",
            "\n"
          ]
        }
      ],
      "source": [
        "df_2013_14.printSchema()"
      ]
    },
    {
      "cell_type": "code",
      "execution_count": null,
      "id": "fefbfa9a",
      "metadata": {
        "id": "fefbfa9a",
        "outputId": "87dddd7d-753c-4f50-b9c1-2a240c5d4da1"
      },
      "outputs": [
        {
          "name": "stdout",
          "output_type": "stream",
          "text": [
            "root\n",
            " |-- Financial Year: string (nullable = true)\n",
            " |-- Financial Quarter: integer (nullable = true)\n",
            " |-- Force Name: string (nullable = true)\n",
            " |-- Offence Description: string (nullable = true)\n",
            " |-- Offence Group: string (nullable = true)\n",
            " |-- Offence Subgroup: string (nullable = true)\n",
            " |-- Offence Code: string (nullable = true)\n",
            " |-- Number of Offences: integer (nullable = true)\n",
            "\n"
          ]
        }
      ],
      "source": [
        "df_2014_15.printSchema()"
      ]
    },
    {
      "cell_type": "code",
      "execution_count": null,
      "id": "892a4b82",
      "metadata": {
        "id": "892a4b82",
        "outputId": "7f910d81-8608-4344-9fc0-1429ef9046ef"
      },
      "outputs": [
        {
          "name": "stdout",
          "output_type": "stream",
          "text": [
            "root\n",
            " |-- Financial Year: string (nullable = true)\n",
            " |-- Financial Quarter: integer (nullable = true)\n",
            " |-- Force Name: string (nullable = true)\n",
            " |-- Offence Description: string (nullable = true)\n",
            " |-- Offence Group: string (nullable = true)\n",
            " |-- Offence Subgroup: string (nullable = true)\n",
            " |-- Offence Code: string (nullable = true)\n",
            " |-- Number of Offences: integer (nullable = true)\n",
            "\n"
          ]
        }
      ],
      "source": [
        "df_2015_16.printSchema()"
      ]
    },
    {
      "cell_type": "code",
      "execution_count": null,
      "id": "0d924645",
      "metadata": {
        "id": "0d924645",
        "outputId": "39300257-6ec9-4509-e49e-77281af69c6e"
      },
      "outputs": [
        {
          "name": "stdout",
          "output_type": "stream",
          "text": [
            "root\n",
            " |-- Financial Year: string (nullable = true)\n",
            " |-- Financial Quarter: integer (nullable = true)\n",
            " |-- Force Name: string (nullable = true)\n",
            " |-- Offence Description: string (nullable = true)\n",
            " |-- Offence Group: string (nullable = true)\n",
            " |-- Offence Subgroup: string (nullable = true)\n",
            " |-- Offence Code: string (nullable = true)\n",
            " |-- Number of Offences: integer (nullable = true)\n",
            "\n"
          ]
        }
      ],
      "source": [
        "df_2016_17.printSchema()"
      ]
    },
    {
      "cell_type": "code",
      "execution_count": null,
      "id": "0cc330fe",
      "metadata": {
        "id": "0cc330fe",
        "outputId": "79e0a361-0ebb-4f3d-c430-58f3778030ef"
      },
      "outputs": [
        {
          "name": "stdout",
          "output_type": "stream",
          "text": [
            "root\n",
            " |-- Financial Year: string (nullable = true)\n",
            " |-- Financial Quarter: integer (nullable = true)\n",
            " |-- Force Name: string (nullable = true)\n",
            " |-- Offence Description: string (nullable = true)\n",
            " |-- Offence Group: string (nullable = true)\n",
            " |-- Offence Subgroup: string (nullable = true)\n",
            " |-- Offence Code: string (nullable = true)\n",
            " |-- Number of Offences: integer (nullable = true)\n",
            "\n"
          ]
        }
      ],
      "source": [
        "df_2017_18.printSchema()"
      ]
    },
    {
      "cell_type": "markdown",
      "id": "c87e98db",
      "metadata": {
        "id": "c87e98db"
      },
      "source": [
        "# Merging The Datasets using SQL for Pyspark"
      ]
    },
    {
      "cell_type": "code",
      "execution_count": null,
      "id": "0b32b272",
      "metadata": {
        "id": "0b32b272"
      },
      "outputs": [],
      "source": [
        "df_final = df_2013_14.union(df_2014_15).union(df_2015_16).union(df_2016_17).union(df_2017_18)"
      ]
    },
    {
      "cell_type": "code",
      "execution_count": null,
      "id": "f69ec9d6",
      "metadata": {
        "id": "f69ec9d6",
        "outputId": "34432fc6-a6bf-486a-afc3-d5775d21b9ea"
      },
      "outputs": [
        {
          "name": "stdout",
          "output_type": "stream",
          "text": [
            "+--------------+-----------------+-----------------+--------------------+--------------------+--------------------+------------+------------------+\n",
            "|Financial Year|Financial Quarter|       Force Name| Offence Description|       Offence Group|    Offence Subgroup|Offence Code|Number of Offences|\n",
            "+--------------+-----------------+-----------------+--------------------+--------------------+--------------------+------------+------------------+\n",
            "|       2013/14|                1|Avon and Somerset|Absconding from l...|Miscellaneous cri...|Miscellaneous cri...|          80|                 4|\n",
            "|       2013/14|                1|Avon and Somerset|Abuse of children...|     Sexual offences|Other sexual offe...|          71|                 0|\n",
            "|       2013/14|                1|Avon and Somerset|Abuse of position...|     Sexual offences|Other sexual offe...|          73|                 8|\n",
            "|       2013/14|                1|Avon and Somerset|Aggravated burgla...|      Theft offences|Non-domestic burg...|          31|                 2|\n",
            "|       2013/14|                1|Avon and Somerset|Aggravated burgla...|      Theft offences|   Domestic burglary|          29|                 8|\n",
            "+--------------+-----------------+-----------------+--------------------+--------------------+--------------------+------------+------------------+\n",
            "only showing top 5 rows\n",
            "\n",
            "107596 rows\n",
            "8 columns\n"
          ]
        }
      ],
      "source": [
        "df_final.show(5)\n",
        "print(df_final.count(),\"rows\")\n",
        "print (len(df_final.columns),\"columns\")"
      ]
    },
    {
      "cell_type": "markdown",
      "id": "cafd9ac9",
      "metadata": {
        "id": "cafd9ac9"
      },
      "source": [
        "# Exploratory Data Analysis (EDA) using Python"
      ]
    },
    {
      "cell_type": "code",
      "execution_count": null,
      "id": "8480eb46",
      "metadata": {
        "id": "8480eb46"
      },
      "outputs": [],
      "source": [
        "# Convert the pyspark dataframe to pandas to perform EDA\n",
        "\n",
        "df_final = df_final.toPandas()"
      ]
    },
    {
      "cell_type": "code",
      "execution_count": null,
      "id": "a3667121",
      "metadata": {
        "id": "a3667121",
        "outputId": "5c2faae2-7857-42ed-eafc-05e944829ef7"
      },
      "outputs": [
        {
          "data": {
            "text/html": [
              "<div>\n",
              "<style scoped>\n",
              "    .dataframe tbody tr th:only-of-type {\n",
              "        vertical-align: middle;\n",
              "    }\n",
              "\n",
              "    .dataframe tbody tr th {\n",
              "        vertical-align: top;\n",
              "    }\n",
              "\n",
              "    .dataframe thead th {\n",
              "        text-align: right;\n",
              "    }\n",
              "</style>\n",
              "<table border=\"1\" class=\"dataframe\">\n",
              "  <thead>\n",
              "    <tr style=\"text-align: right;\">\n",
              "      <th></th>\n",
              "      <th>Financial Year</th>\n",
              "      <th>Financial Quarter</th>\n",
              "      <th>Force Name</th>\n",
              "      <th>Offence Description</th>\n",
              "      <th>Offence Group</th>\n",
              "      <th>Offence Subgroup</th>\n",
              "      <th>Offence Code</th>\n",
              "      <th>Number of Offences</th>\n",
              "    </tr>\n",
              "  </thead>\n",
              "  <tbody>\n",
              "    <tr>\n",
              "      <th>0</th>\n",
              "      <td>2013/14</td>\n",
              "      <td>1</td>\n",
              "      <td>Avon and Somerset</td>\n",
              "      <td>Absconding from lawful custody</td>\n",
              "      <td>Miscellaneous crimes against society</td>\n",
              "      <td>Miscellaneous crimes against society</td>\n",
              "      <td>80</td>\n",
              "      <td>4</td>\n",
              "    </tr>\n",
              "    <tr>\n",
              "      <th>1</th>\n",
              "      <td>2013/14</td>\n",
              "      <td>1</td>\n",
              "      <td>Avon and Somerset</td>\n",
              "      <td>Abuse of children through sexual exploitation</td>\n",
              "      <td>Sexual offences</td>\n",
              "      <td>Other sexual offences</td>\n",
              "      <td>71</td>\n",
              "      <td>0</td>\n",
              "    </tr>\n",
              "    <tr>\n",
              "      <th>2</th>\n",
              "      <td>2013/14</td>\n",
              "      <td>1</td>\n",
              "      <td>Avon and Somerset</td>\n",
              "      <td>Abuse of position of trust of a sexual nature</td>\n",
              "      <td>Sexual offences</td>\n",
              "      <td>Other sexual offences</td>\n",
              "      <td>73</td>\n",
              "      <td>8</td>\n",
              "    </tr>\n",
              "    <tr>\n",
              "      <th>3</th>\n",
              "      <td>2013/14</td>\n",
              "      <td>1</td>\n",
              "      <td>Avon and Somerset</td>\n",
              "      <td>Aggravated burglary in a building other than a...</td>\n",
              "      <td>Theft offences</td>\n",
              "      <td>Non-domestic burglary</td>\n",
              "      <td>31</td>\n",
              "      <td>2</td>\n",
              "    </tr>\n",
              "    <tr>\n",
              "      <th>4</th>\n",
              "      <td>2013/14</td>\n",
              "      <td>1</td>\n",
              "      <td>Avon and Somerset</td>\n",
              "      <td>Aggravated burglary in a dwelling (outcome only)</td>\n",
              "      <td>Theft offences</td>\n",
              "      <td>Domestic burglary</td>\n",
              "      <td>29</td>\n",
              "      <td>8</td>\n",
              "    </tr>\n",
              "  </tbody>\n",
              "</table>\n",
              "</div>"
            ],
            "text/plain": [
              "  Financial Year  Financial Quarter         Force Name  \\\n",
              "0        2013/14                  1  Avon and Somerset   \n",
              "1        2013/14                  1  Avon and Somerset   \n",
              "2        2013/14                  1  Avon and Somerset   \n",
              "3        2013/14                  1  Avon and Somerset   \n",
              "4        2013/14                  1  Avon and Somerset   \n",
              "\n",
              "                                 Offence Description  \\\n",
              "0                     Absconding from lawful custody   \n",
              "1      Abuse of children through sexual exploitation   \n",
              "2      Abuse of position of trust of a sexual nature   \n",
              "3  Aggravated burglary in a building other than a...   \n",
              "4   Aggravated burglary in a dwelling (outcome only)   \n",
              "\n",
              "                          Offence Group                      Offence Subgroup  \\\n",
              "0  Miscellaneous crimes against society  Miscellaneous crimes against society   \n",
              "1                       Sexual offences                 Other sexual offences   \n",
              "2                       Sexual offences                 Other sexual offences   \n",
              "3                        Theft offences                 Non-domestic burglary   \n",
              "4                        Theft offences                     Domestic burglary   \n",
              "\n",
              "  Offence Code  Number of Offences  \n",
              "0           80                   4  \n",
              "1           71                   0  \n",
              "2           73                   8  \n",
              "3           31                   2  \n",
              "4           29                   8  "
            ]
          },
          "execution_count": 21,
          "metadata": {},
          "output_type": "execute_result"
        }
      ],
      "source": [
        "#Displays the first 5 records\n",
        "\n",
        "df_final.head()"
      ]
    },
    {
      "cell_type": "code",
      "execution_count": null,
      "id": "c217510a",
      "metadata": {
        "id": "c217510a",
        "outputId": "08d82331-98da-4636-f972-2614f57f465c"
      },
      "outputs": [
        {
          "data": {
            "text/html": [
              "<div>\n",
              "<style scoped>\n",
              "    .dataframe tbody tr th:only-of-type {\n",
              "        vertical-align: middle;\n",
              "    }\n",
              "\n",
              "    .dataframe tbody tr th {\n",
              "        vertical-align: top;\n",
              "    }\n",
              "\n",
              "    .dataframe thead th {\n",
              "        text-align: right;\n",
              "    }\n",
              "</style>\n",
              "<table border=\"1\" class=\"dataframe\">\n",
              "  <thead>\n",
              "    <tr style=\"text-align: right;\">\n",
              "      <th></th>\n",
              "      <th>Financial Year</th>\n",
              "      <th>Financial Quarter</th>\n",
              "      <th>Force Name</th>\n",
              "      <th>Offence Description</th>\n",
              "      <th>Offence Group</th>\n",
              "      <th>Offence Subgroup</th>\n",
              "      <th>Offence Code</th>\n",
              "      <th>Number of Offences</th>\n",
              "    </tr>\n",
              "  </thead>\n",
              "  <tbody>\n",
              "    <tr>\n",
              "      <th>107591</th>\n",
              "      <td>2017/18</td>\n",
              "      <td>3</td>\n",
              "      <td>CIFAS</td>\n",
              "      <td>Fraud offences recorded by CIFAS</td>\n",
              "      <td>Fraud offences</td>\n",
              "      <td>Fraud: CIFAS</td>\n",
              "      <td>CIFAS</td>\n",
              "      <td>63381</td>\n",
              "    </tr>\n",
              "    <tr>\n",
              "      <th>107592</th>\n",
              "      <td>2017/18</td>\n",
              "      <td>3</td>\n",
              "      <td>UK Finance</td>\n",
              "      <td>Fraud offences recorded by UK Finance</td>\n",
              "      <td>Fraud offences</td>\n",
              "      <td>Fraud: UK Finance</td>\n",
              "      <td>UK Finance</td>\n",
              "      <td>17188</td>\n",
              "    </tr>\n",
              "    <tr>\n",
              "      <th>107593</th>\n",
              "      <td>2017/18</td>\n",
              "      <td>4</td>\n",
              "      <td>Action Fraud</td>\n",
              "      <td>Fraud offences recorded by Action Fraud</td>\n",
              "      <td>Fraud offences</td>\n",
              "      <td>Fraud: action fraud</td>\n",
              "      <td>AF</td>\n",
              "      <td>72815</td>\n",
              "    </tr>\n",
              "    <tr>\n",
              "      <th>107594</th>\n",
              "      <td>2017/18</td>\n",
              "      <td>4</td>\n",
              "      <td>CIFAS</td>\n",
              "      <td>Fraud offences recorded by CIFAS</td>\n",
              "      <td>Fraud offences</td>\n",
              "      <td>Fraud: CIFAS</td>\n",
              "      <td>CIFAS</td>\n",
              "      <td>66760</td>\n",
              "    </tr>\n",
              "    <tr>\n",
              "      <th>107595</th>\n",
              "      <td>2017/18</td>\n",
              "      <td>4</td>\n",
              "      <td>UK Finance</td>\n",
              "      <td>Fraud offences recorded by UK Finance</td>\n",
              "      <td>Fraud offences</td>\n",
              "      <td>Fraud: UK Finance</td>\n",
              "      <td>UK Finance</td>\n",
              "      <td>21116</td>\n",
              "    </tr>\n",
              "  </tbody>\n",
              "</table>\n",
              "</div>"
            ],
            "text/plain": [
              "       Financial Year  Financial Quarter    Force Name  \\\n",
              "107591        2017/18                  3         CIFAS   \n",
              "107592        2017/18                  3    UK Finance   \n",
              "107593        2017/18                  4  Action Fraud   \n",
              "107594        2017/18                  4         CIFAS   \n",
              "107595        2017/18                  4    UK Finance   \n",
              "\n",
              "                            Offence Description   Offence Group  \\\n",
              "107591         Fraud offences recorded by CIFAS  Fraud offences   \n",
              "107592    Fraud offences recorded by UK Finance  Fraud offences   \n",
              "107593  Fraud offences recorded by Action Fraud  Fraud offences   \n",
              "107594         Fraud offences recorded by CIFAS  Fraud offences   \n",
              "107595    Fraud offences recorded by UK Finance  Fraud offences   \n",
              "\n",
              "           Offence Subgroup Offence Code  Number of Offences  \n",
              "107591         Fraud: CIFAS        CIFAS               63381  \n",
              "107592    Fraud: UK Finance   UK Finance               17188  \n",
              "107593  Fraud: action fraud           AF               72815  \n",
              "107594         Fraud: CIFAS        CIFAS               66760  \n",
              "107595    Fraud: UK Finance   UK Finance               21116  "
            ]
          },
          "execution_count": 22,
          "metadata": {},
          "output_type": "execute_result"
        }
      ],
      "source": [
        "#Displays the bottom 5 records\n",
        "\n",
        "df_final.tail()"
      ]
    },
    {
      "cell_type": "code",
      "execution_count": null,
      "id": "ae9d7ad1",
      "metadata": {
        "id": "ae9d7ad1",
        "outputId": "d72f5d35-0917-42a3-88d3-4ee092180f80"
      },
      "outputs": [
        {
          "name": "stdout",
          "output_type": "stream",
          "text": [
            "<class 'pandas.core.frame.DataFrame'>\n",
            "RangeIndex: 107596 entries, 0 to 107595\n",
            "Data columns (total 8 columns):\n",
            " #   Column               Non-Null Count   Dtype \n",
            "---  ------               --------------   ----- \n",
            " 0   Financial Year       107596 non-null  object\n",
            " 1   Financial Quarter    107596 non-null  int32 \n",
            " 2   Force Name           107596 non-null  object\n",
            " 3   Offence Description  107596 non-null  object\n",
            " 4   Offence Group        107596 non-null  object\n",
            " 5   Offence Subgroup     107596 non-null  object\n",
            " 6   Offence Code         107596 non-null  object\n",
            " 7   Number of Offences   107596 non-null  int32 \n",
            "dtypes: int32(2), object(6)\n",
            "memory usage: 5.7+ MB\n"
          ]
        }
      ],
      "source": [
        "#Count of non-null values in each column\n",
        "\n",
        "df_final.info()"
      ]
    },
    {
      "cell_type": "code",
      "execution_count": null,
      "id": "21dcaa6a",
      "metadata": {
        "id": "21dcaa6a",
        "outputId": "b1a15b38-8640-4a78-e863-e7504f19df36"
      },
      "outputs": [
        {
          "data": {
            "text/html": [
              "<div>\n",
              "<style scoped>\n",
              "    .dataframe tbody tr th:only-of-type {\n",
              "        vertical-align: middle;\n",
              "    }\n",
              "\n",
              "    .dataframe tbody tr th {\n",
              "        vertical-align: top;\n",
              "    }\n",
              "\n",
              "    .dataframe thead th {\n",
              "        text-align: right;\n",
              "    }\n",
              "</style>\n",
              "<table border=\"1\" class=\"dataframe\">\n",
              "  <thead>\n",
              "    <tr style=\"text-align: right;\">\n",
              "      <th></th>\n",
              "      <th>Financial Year</th>\n",
              "      <th>Financial Quarter</th>\n",
              "      <th>Force Name</th>\n",
              "      <th>Offence Description</th>\n",
              "      <th>Offence Group</th>\n",
              "      <th>Offence Subgroup</th>\n",
              "      <th>Offence Code</th>\n",
              "      <th>Number of Offences</th>\n",
              "    </tr>\n",
              "  </thead>\n",
              "  <tbody>\n",
              "    <tr>\n",
              "      <th>0</th>\n",
              "      <td>False</td>\n",
              "      <td>False</td>\n",
              "      <td>False</td>\n",
              "      <td>False</td>\n",
              "      <td>False</td>\n",
              "      <td>False</td>\n",
              "      <td>False</td>\n",
              "      <td>False</td>\n",
              "    </tr>\n",
              "    <tr>\n",
              "      <th>1</th>\n",
              "      <td>False</td>\n",
              "      <td>False</td>\n",
              "      <td>False</td>\n",
              "      <td>False</td>\n",
              "      <td>False</td>\n",
              "      <td>False</td>\n",
              "      <td>False</td>\n",
              "      <td>False</td>\n",
              "    </tr>\n",
              "    <tr>\n",
              "      <th>2</th>\n",
              "      <td>False</td>\n",
              "      <td>False</td>\n",
              "      <td>False</td>\n",
              "      <td>False</td>\n",
              "      <td>False</td>\n",
              "      <td>False</td>\n",
              "      <td>False</td>\n",
              "      <td>False</td>\n",
              "    </tr>\n",
              "    <tr>\n",
              "      <th>3</th>\n",
              "      <td>False</td>\n",
              "      <td>False</td>\n",
              "      <td>False</td>\n",
              "      <td>False</td>\n",
              "      <td>False</td>\n",
              "      <td>False</td>\n",
              "      <td>False</td>\n",
              "      <td>False</td>\n",
              "    </tr>\n",
              "    <tr>\n",
              "      <th>4</th>\n",
              "      <td>False</td>\n",
              "      <td>False</td>\n",
              "      <td>False</td>\n",
              "      <td>False</td>\n",
              "      <td>False</td>\n",
              "      <td>False</td>\n",
              "      <td>False</td>\n",
              "      <td>False</td>\n",
              "    </tr>\n",
              "    <tr>\n",
              "      <th>...</th>\n",
              "      <td>...</td>\n",
              "      <td>...</td>\n",
              "      <td>...</td>\n",
              "      <td>...</td>\n",
              "      <td>...</td>\n",
              "      <td>...</td>\n",
              "      <td>...</td>\n",
              "      <td>...</td>\n",
              "    </tr>\n",
              "    <tr>\n",
              "      <th>107591</th>\n",
              "      <td>False</td>\n",
              "      <td>False</td>\n",
              "      <td>False</td>\n",
              "      <td>False</td>\n",
              "      <td>False</td>\n",
              "      <td>False</td>\n",
              "      <td>False</td>\n",
              "      <td>False</td>\n",
              "    </tr>\n",
              "    <tr>\n",
              "      <th>107592</th>\n",
              "      <td>False</td>\n",
              "      <td>False</td>\n",
              "      <td>False</td>\n",
              "      <td>False</td>\n",
              "      <td>False</td>\n",
              "      <td>False</td>\n",
              "      <td>False</td>\n",
              "      <td>False</td>\n",
              "    </tr>\n",
              "    <tr>\n",
              "      <th>107593</th>\n",
              "      <td>False</td>\n",
              "      <td>False</td>\n",
              "      <td>False</td>\n",
              "      <td>False</td>\n",
              "      <td>False</td>\n",
              "      <td>False</td>\n",
              "      <td>False</td>\n",
              "      <td>False</td>\n",
              "    </tr>\n",
              "    <tr>\n",
              "      <th>107594</th>\n",
              "      <td>False</td>\n",
              "      <td>False</td>\n",
              "      <td>False</td>\n",
              "      <td>False</td>\n",
              "      <td>False</td>\n",
              "      <td>False</td>\n",
              "      <td>False</td>\n",
              "      <td>False</td>\n",
              "    </tr>\n",
              "    <tr>\n",
              "      <th>107595</th>\n",
              "      <td>False</td>\n",
              "      <td>False</td>\n",
              "      <td>False</td>\n",
              "      <td>False</td>\n",
              "      <td>False</td>\n",
              "      <td>False</td>\n",
              "      <td>False</td>\n",
              "      <td>False</td>\n",
              "    </tr>\n",
              "  </tbody>\n",
              "</table>\n",
              "<p>107596 rows × 8 columns</p>\n",
              "</div>"
            ],
            "text/plain": [
              "        Financial Year  Financial Quarter  Force Name  Offence Description  \\\n",
              "0                False              False       False                False   \n",
              "1                False              False       False                False   \n",
              "2                False              False       False                False   \n",
              "3                False              False       False                False   \n",
              "4                False              False       False                False   \n",
              "...                ...                ...         ...                  ...   \n",
              "107591           False              False       False                False   \n",
              "107592           False              False       False                False   \n",
              "107593           False              False       False                False   \n",
              "107594           False              False       False                False   \n",
              "107595           False              False       False                False   \n",
              "\n",
              "        Offence Group  Offence Subgroup  Offence Code  Number of Offences  \n",
              "0               False             False         False               False  \n",
              "1               False             False         False               False  \n",
              "2               False             False         False               False  \n",
              "3               False             False         False               False  \n",
              "4               False             False         False               False  \n",
              "...               ...               ...           ...                 ...  \n",
              "107591          False             False         False               False  \n",
              "107592          False             False         False               False  \n",
              "107593          False             False         False               False  \n",
              "107594          False             False         False               False  \n",
              "107595          False             False         False               False  \n",
              "\n",
              "[107596 rows x 8 columns]"
            ]
          },
          "execution_count": 24,
          "metadata": {},
          "output_type": "execute_result"
        }
      ],
      "source": [
        "# Checking null values in each column\n",
        "\n",
        "df_final.isnull()"
      ]
    },
    {
      "cell_type": "code",
      "execution_count": null,
      "id": "bfcd2c36",
      "metadata": {
        "id": "bfcd2c36",
        "outputId": "c1583f77-9cbc-4c7b-98b7-8d8ae4aa9550"
      },
      "outputs": [
        {
          "data": {
            "text/plain": [
              "Financial Year         0\n",
              "Financial Quarter      0\n",
              "Force Name             0\n",
              "Offence Description    0\n",
              "Offence Group          0\n",
              "Offence Subgroup       0\n",
              "Offence Code           0\n",
              "Number of Offences     0\n",
              "dtype: int64"
            ]
          },
          "execution_count": 25,
          "metadata": {},
          "output_type": "execute_result"
        }
      ],
      "source": [
        "#Check for missing values\n",
        "\n",
        "df_final.isnull().sum()\n",
        "\n",
        "#There are no missing values"
      ]
    },
    {
      "cell_type": "code",
      "execution_count": null,
      "id": "8775247e",
      "metadata": {
        "id": "8775247e",
        "outputId": "59b785ba-1c12-4a18-d098-775eaa32d2f1"
      },
      "outputs": [
        {
          "data": {
            "text/plain": [
              "False"
            ]
          },
          "execution_count": 26,
          "metadata": {},
          "output_type": "execute_result"
        }
      ],
      "source": [
        "#Are ther any null values?\n",
        "\n",
        "df_final.isnull().any().any()"
      ]
    },
    {
      "cell_type": "code",
      "execution_count": null,
      "id": "a648da3f",
      "metadata": {
        "id": "a648da3f",
        "outputId": "0db14a83-5948-4896-a826-be90a6fff22e"
      },
      "outputs": [
        {
          "data": {
            "text/plain": [
              "Financial Year            5\n",
              "Financial Quarter         4\n",
              "Force Name               49\n",
              "Offence Description     135\n",
              "Offence Group            10\n",
              "Offence Subgroup         30\n",
              "Offence Code            135\n",
              "Number of Offences     3464\n",
              "dtype: int64"
            ]
          },
          "execution_count": 27,
          "metadata": {},
          "output_type": "execute_result"
        }
      ],
      "source": [
        "# To check number of unique values in each column\n",
        "\n",
        "df_final.nunique()"
      ]
    },
    {
      "cell_type": "code",
      "execution_count": null,
      "id": "84e31313",
      "metadata": {
        "id": "84e31313",
        "outputId": "2f548c5a-9209-4dbf-ad6e-1dcf16bbe8c3"
      },
      "outputs": [
        {
          "data": {
            "text/html": [
              "<div>\n",
              "<style scoped>\n",
              "    .dataframe tbody tr th:only-of-type {\n",
              "        vertical-align: middle;\n",
              "    }\n",
              "\n",
              "    .dataframe tbody tr th {\n",
              "        vertical-align: top;\n",
              "    }\n",
              "\n",
              "    .dataframe thead th {\n",
              "        text-align: right;\n",
              "    }\n",
              "</style>\n",
              "<table border=\"1\" class=\"dataframe\">\n",
              "  <thead>\n",
              "    <tr style=\"text-align: right;\">\n",
              "      <th></th>\n",
              "      <th>Financial Year</th>\n",
              "      <th>Financial Quarter</th>\n",
              "      <th>Force Name</th>\n",
              "      <th>Offence Description</th>\n",
              "      <th>Offence Group</th>\n",
              "      <th>Offence Subgroup</th>\n",
              "      <th>Offence Code</th>\n",
              "      <th>Number of Offences</th>\n",
              "    </tr>\n",
              "  </thead>\n",
              "  <tbody>\n",
              "    <tr>\n",
              "      <th>106981</th>\n",
              "      <td>2017/18</td>\n",
              "      <td>4</td>\n",
              "      <td>Warwickshire</td>\n",
              "      <td>Exposure and voyeurism</td>\n",
              "      <td>Sexual offences</td>\n",
              "      <td>Other sexual offences</td>\n",
              "      <td>88E</td>\n",
              "      <td>24</td>\n",
              "    </tr>\n",
              "    <tr>\n",
              "      <th>85281</th>\n",
              "      <td>2017/18</td>\n",
              "      <td>1</td>\n",
              "      <td>Cleveland</td>\n",
              "      <td>Rape of a female child under 13</td>\n",
              "      <td>Sexual offences</td>\n",
              "      <td>Rape offences</td>\n",
              "      <td>19E</td>\n",
              "      <td>17</td>\n",
              "    </tr>\n",
              "    <tr>\n",
              "      <th>26516</th>\n",
              "      <td>2014/15</td>\n",
              "      <td>2</td>\n",
              "      <td>Cambridgeshire</td>\n",
              "      <td>Sexual activity involving child under 16</td>\n",
              "      <td>Sexual offences</td>\n",
              "      <td>Other sexual offences</td>\n",
              "      <td>22B</td>\n",
              "      <td>22</td>\n",
              "    </tr>\n",
              "    <tr>\n",
              "      <th>74994</th>\n",
              "      <td>2016/17</td>\n",
              "      <td>3</td>\n",
              "      <td>Dorset</td>\n",
              "      <td>Dangerous driving</td>\n",
              "      <td>Miscellaneous crimes against society</td>\n",
              "      <td>Miscellaneous crimes against society</td>\n",
              "      <td>802</td>\n",
              "      <td>7</td>\n",
              "    </tr>\n",
              "    <tr>\n",
              "      <th>92870</th>\n",
              "      <td>2017/18</td>\n",
              "      <td>2</td>\n",
              "      <td>Kent</td>\n",
              "      <td>Procuring illegal abortion</td>\n",
              "      <td>Violence against the person</td>\n",
              "      <td>Violence without injury</td>\n",
              "      <td>14</td>\n",
              "      <td>0</td>\n",
              "    </tr>\n",
              "  </tbody>\n",
              "</table>\n",
              "</div>"
            ],
            "text/plain": [
              "       Financial Year  Financial Quarter      Force Name  \\\n",
              "106981        2017/18                  4    Warwickshire   \n",
              "85281         2017/18                  1       Cleveland   \n",
              "26516         2014/15                  2  Cambridgeshire   \n",
              "74994         2016/17                  3          Dorset   \n",
              "92870         2017/18                  2            Kent   \n",
              "\n",
              "                             Offence Description  \\\n",
              "106981                    Exposure and voyeurism   \n",
              "85281            Rape of a female child under 13   \n",
              "26516   Sexual activity involving child under 16   \n",
              "74994                          Dangerous driving   \n",
              "92870                 Procuring illegal abortion   \n",
              "\n",
              "                               Offence Group  \\\n",
              "106981                       Sexual offences   \n",
              "85281                        Sexual offences   \n",
              "26516                        Sexual offences   \n",
              "74994   Miscellaneous crimes against society   \n",
              "92870            Violence against the person   \n",
              "\n",
              "                            Offence Subgroup Offence Code  Number of Offences  \n",
              "106981                 Other sexual offences          88E                  24  \n",
              "85281                          Rape offences          19E                  17  \n",
              "26516                  Other sexual offences          22B                  22  \n",
              "74994   Miscellaneous crimes against society          802                   7  \n",
              "92870                Violence without injury           14                   0  "
            ]
          },
          "execution_count": 28,
          "metadata": {},
          "output_type": "execute_result"
        }
      ],
      "source": [
        "# Displays a sample set at random\n",
        "\n",
        "df_final.sample(5)"
      ]
    },
    {
      "cell_type": "code",
      "execution_count": null,
      "id": "6d32d372",
      "metadata": {
        "id": "6d32d372",
        "outputId": "59750fba-9c26-4cbb-bed4-5f55d560dffc"
      },
      "outputs": [
        {
          "data": {
            "text/plain": [
              "array(['Avon and Somerset', 'Bedfordshire', 'British Transport Police',\n",
              "       'Cambridgeshire', 'Cheshire', 'Cleveland', 'Cumbria', 'Derbyshire',\n",
              "       'Devon and Cornwall', 'Dorset', 'Durham', 'Dyfed-Powys', 'Essex',\n",
              "       'Gloucestershire', 'Greater Manchester', 'Gwent', 'Hampshire',\n",
              "       'Hertfordshire', 'Humberside', 'Kent', 'Lancashire',\n",
              "       'Leicestershire', 'Lincolnshire', 'London, City of', 'Merseyside',\n",
              "       'Metropolitan Police', 'Norfolk', 'North Wales', 'North Yorkshire',\n",
              "       'Northamptonshire', 'Northumbria', 'Nottinghamshire',\n",
              "       'South Wales', 'South Yorkshire', 'Staffordshire', 'Suffolk',\n",
              "       'Surrey', 'Sussex', 'Thames Valley', 'Warwickshire', 'West Mercia',\n",
              "       'West Midlands', 'West Yorkshire', 'Wiltshire', 'Action Fraud',\n",
              "       'Cifas', 'Financial Fraud Action UK', 'CIFAS', 'UK Finance'],\n",
              "      dtype=object)"
            ]
          },
          "execution_count": 29,
          "metadata": {},
          "output_type": "execute_result"
        }
      ],
      "source": [
        "# Displays all the different force\n",
        "\n",
        "df_final['Force Name'].unique()"
      ]
    },
    {
      "cell_type": "code",
      "execution_count": null,
      "id": "33ad5bab",
      "metadata": {
        "id": "33ad5bab",
        "outputId": "684554e7-69a2-4b29-fb30-9b85990fb3ef"
      },
      "outputs": [
        {
          "data": {
            "text/plain": [
              "array(['Absconding from lawful custody',\n",
              "       'Abuse of children through sexual exploitation',\n",
              "       'Abuse of position of trust of a sexual nature',\n",
              "       'Aggravated burglary in a building other than a dwelling(outcome only)',\n",
              "       'Aggravated burglary in a dwelling (outcome only)',\n",
              "       'Aggravated vehicle taking', 'Aiding suicide',\n",
              "       'Arson endangering life', 'Arson not endangering life',\n",
              "       'Assault with injury', 'Assault with intent to cause serious harm',\n",
              "       'Assault without injury', 'Assault without injury on a constable',\n",
              "       'Attempted burglary in a building other than a dwelling (outcome only)',\n",
              "       'Attempted burglary in a dwelling (outcome only)',\n",
              "       'Attempted distraction burglary in a dwelling (outcome only)',\n",
              "       'Attempted murder', 'Bail offences', 'Bigamy', 'Blackmail',\n",
              "       'Burglary in a building other than a dwelling (outcome only)',\n",
              "       'Burglary in a dwelling(outcome only)',\n",
              "       'Causing death by aggravated vehicle taking',\n",
              "       'Causing death by careless driving under influence of drink or drugs',\n",
              "       'Causing death by careless or inconsiderate driving',\n",
              "       'Causing death by driving: unlicensed or disqualified or uninsured drivers',\n",
              "       'Causing death or serious injury by dangerous driving',\n",
              "       'Causing or allowing death of child or vulnerable person',\n",
              "       'Causing sexual activity without consent', 'Child abduction',\n",
              "       'Concealing an infant death close to birth',\n",
              "       'Conspiracy to murder', 'Corporate manslaughter',\n",
              "       'Criminal damage to a building other than a dwelling',\n",
              "       'Criminal damage to a dwelling', 'Criminal damage to a vehicle',\n",
              "       'Cruelty to children/young persons', 'Dangerous driving',\n",
              "       'Disclosure, obstruction, false or misleading statements etc',\n",
              "       'Dishonest use of electricity',\n",
              "       'Distraction burglary in a dwelling (outcome only)',\n",
              "       'Endangering life', 'Exploitation of prostitution',\n",
              "       'Exposure and voyeurism',\n",
              "       'Forgery or use of false drug prescription',\n",
              "       'Fraud, forgery etc associated with vehicle or driver records',\n",
              "       'Going equipped for stealing, etc', 'Handling stolen goods',\n",
              "       'Harassment', 'Incest or familial sexual offences', 'Infanticide',\n",
              "       'Intentional destruction of a viable unborn child',\n",
              "       'Interfering with a motor vehicle', 'Kidnapping',\n",
              "       'Making off without payment',\n",
              "       'Making, supplying or possessing articles for use in fraud',\n",
              "       'Manslaughter', 'Murder', 'Obscene publications etc',\n",
              "       'Offender Management Act offences', 'Other criminal damage',\n",
              "       'Other drug offences', 'Other firearms offences', 'Other forgery',\n",
              "       'Other knives offences', 'Other miscellaneous sexual offences',\n",
              "       'Other notifiable offences',\n",
              "       'Other offences against the State or public order', 'Other theft',\n",
              "       'Perjury', 'Perverting the course of justice',\n",
              "       'Possession of article with blade or point',\n",
              "       'Possession of controlled drugs (Cannabis)',\n",
              "       'Possession of controlled drugs (excl. Cannabis)',\n",
              "       'Possession of false documents', 'Possession of firearms offences',\n",
              "       'Possession of firearms with intent',\n",
              "       'Possession of other weapons', 'Procuring illegal abortion',\n",
              "       'Profiting from or concealing knowledge of the proceeds of crime',\n",
              "       'Public fear, alarm or distress',\n",
              "       'Racially or religiously aggravated assault with injury',\n",
              "       'Racially or religiously aggravated assault without injury',\n",
              "       'Racially or religiously aggravated criminal damage',\n",
              "       'Racially or religiously aggravated harassment',\n",
              "       'Racially or religiously aggravated public fear, alarm or distress',\n",
              "       'Rape of a female aged 16 and over',\n",
              "       'Rape of a female child under 13',\n",
              "       'Rape of a female child under 16',\n",
              "       'Rape of a male aged 16 and over', 'Rape of a male child under 13',\n",
              "       'Rape of a male child under 16', 'Robbery of business property',\n",
              "       'Robbery of personal property',\n",
              "       'Sexual activity etc with a person with a mental disorder',\n",
              "       'Sexual activity involving a child under 13',\n",
              "       'Sexual activity involving child under 16',\n",
              "       'Sexual assault on a female aged 13 and over',\n",
              "       'Sexual assault on a female child under 13',\n",
              "       'Sexual assault on a male aged 13 and over',\n",
              "       'Sexual assault on a male child under 13', 'Sexual grooming',\n",
              "       'Shoplifting', 'Soliciting for the purposes of prostitution',\n",
              "       'Theft by an employee', 'Theft from automatic machine or meter',\n",
              "       'Theft from the person', 'Theft from vehicle',\n",
              "       'Theft in a dwelling other than from an automatic machine or meter',\n",
              "       'Theft of mail', 'Theft or unauthorised taking of a pedal cycle',\n",
              "       'Theft or unauthorised taking of motor vehicle',\n",
              "       'Threat or possession with intent to commit criminal damage',\n",
              "       'Threats to kill', 'Trafficking for sexual exploitation',\n",
              "       'Trafficking in controlled drugs', 'Unnatural sexual offences',\n",
              "       'Violent disorder', 'Fraud offences recorded by Action Fraud',\n",
              "       'Fraud offences recorded by CIFAS',\n",
              "       'Fraud offences recorded by Financial Fraud Action UK', 'Stalking',\n",
              "       'Wildlife', 'Modern slavery',\n",
              "       'Aggravated Burglary Business and Community',\n",
              "       'Aggravated Burglary Residential',\n",
              "       'Assault with injury on a constable',\n",
              "       'Attempted Burglary Business and Community',\n",
              "       'Attempted Burglary Residential',\n",
              "       'Attempted Distraction Burglary Residential',\n",
              "       'Burglary Business and Community', 'Burglary Residential',\n",
              "       'Distraction Burglary Residential', 'Malicious Communications',\n",
              "       'Fraud offences recorded by UK Finance'], dtype=object)"
            ]
          },
          "execution_count": 30,
          "metadata": {},
          "output_type": "execute_result"
        }
      ],
      "source": [
        "# Displays each unique Offence Description\n",
        "\n",
        "df_final['Offence Description'].unique()"
      ]
    },
    {
      "cell_type": "code",
      "execution_count": null,
      "id": "13df8829",
      "metadata": {
        "id": "13df8829",
        "outputId": "c9c41ea8-5a83-4d00-d5c8-e58569b3ff64"
      },
      "outputs": [
        {
          "data": {
            "text/plain": [
              "array(['Miscellaneous crimes against society', 'Sexual offences',\n",
              "       'Theft offences', 'Criminal damage and arson',\n",
              "       'Violence against the person', 'Drug offences',\n",
              "       'Possession of weapons offences', 'Public order offences',\n",
              "       'Robbery', 'Fraud offences'], dtype=object)"
            ]
          },
          "execution_count": 31,
          "metadata": {},
          "output_type": "execute_result"
        }
      ],
      "source": [
        "# Displays the diffrent Offence Groups\n",
        "\n",
        "df_final['Offence Group'].unique()"
      ]
    },
    {
      "cell_type": "code",
      "execution_count": null,
      "id": "cd45f784",
      "metadata": {
        "id": "cd45f784",
        "outputId": "e4bba474-c8f6-419b-f6e0-3da88786f103"
      },
      "outputs": [
        {
          "data": {
            "text/plain": [
              "array(['Miscellaneous crimes against society', 'Other sexual offences',\n",
              "       'Non-domestic burglary', 'Domestic burglary',\n",
              "       'Theft of a motor vehicle', 'Arson', 'Violence with injury',\n",
              "       'Violence without injury', 'Other theft offences',\n",
              "       'Death or serious injury - unlawful driving', 'Homicide',\n",
              "       'Criminal damage', 'Stalking and harassment',\n",
              "       'Vehicle interference', 'Possession of drugs',\n",
              "       'Possession of weapons offences', 'Public order offences',\n",
              "       'Rape offences', 'Robbery of business property',\n",
              "       'Robbery of personal property', 'Shoplifting',\n",
              "       'Theft from the person', 'Theft from a vehicle', 'Bicycle theft',\n",
              "       'Trafficking of drugs', 'Fraud: Action Fraud', 'Fraud: CIFAS',\n",
              "       'Fraud: Financial Fraud Action UK', 'Fraud: action fraud',\n",
              "       'Fraud: UK Finance'], dtype=object)"
            ]
          },
          "execution_count": 32,
          "metadata": {},
          "output_type": "execute_result"
        }
      ],
      "source": [
        "# Displays the unique Subgroups\n",
        "\n",
        "df_final['Offence Subgroup'].unique()"
      ]
    },
    {
      "cell_type": "code",
      "execution_count": null,
      "id": "e4160f5f",
      "metadata": {
        "id": "e4160f5f",
        "outputId": "087e8efd-f654-4f2d-d5fb-12883d8fa657"
      },
      "outputs": [
        {
          "data": {
            "text/html": [
              "<div>\n",
              "<style scoped>\n",
              "    .dataframe tbody tr th:only-of-type {\n",
              "        vertical-align: middle;\n",
              "    }\n",
              "\n",
              "    .dataframe tbody tr th {\n",
              "        vertical-align: top;\n",
              "    }\n",
              "\n",
              "    .dataframe thead th {\n",
              "        text-align: right;\n",
              "    }\n",
              "</style>\n",
              "<table border=\"1\" class=\"dataframe\">\n",
              "  <thead>\n",
              "    <tr style=\"text-align: right;\">\n",
              "      <th></th>\n",
              "      <th>unique_values</th>\n",
              "      <th>na_values</th>\n",
              "      <th>data_type</th>\n",
              "    </tr>\n",
              "  </thead>\n",
              "  <tbody>\n",
              "    <tr>\n",
              "      <th>Financial Year</th>\n",
              "      <td>5</td>\n",
              "      <td>0</td>\n",
              "      <td>object</td>\n",
              "    </tr>\n",
              "    <tr>\n",
              "      <th>Financial Quarter</th>\n",
              "      <td>4</td>\n",
              "      <td>0</td>\n",
              "      <td>int32</td>\n",
              "    </tr>\n",
              "    <tr>\n",
              "      <th>Force Name</th>\n",
              "      <td>49</td>\n",
              "      <td>0</td>\n",
              "      <td>object</td>\n",
              "    </tr>\n",
              "    <tr>\n",
              "      <th>Offence Description</th>\n",
              "      <td>135</td>\n",
              "      <td>0</td>\n",
              "      <td>object</td>\n",
              "    </tr>\n",
              "    <tr>\n",
              "      <th>Offence Group</th>\n",
              "      <td>10</td>\n",
              "      <td>0</td>\n",
              "      <td>object</td>\n",
              "    </tr>\n",
              "    <tr>\n",
              "      <th>Offence Subgroup</th>\n",
              "      <td>30</td>\n",
              "      <td>0</td>\n",
              "      <td>object</td>\n",
              "    </tr>\n",
              "    <tr>\n",
              "      <th>Offence Code</th>\n",
              "      <td>135</td>\n",
              "      <td>0</td>\n",
              "      <td>object</td>\n",
              "    </tr>\n",
              "    <tr>\n",
              "      <th>Number of Offences</th>\n",
              "      <td>3464</td>\n",
              "      <td>0</td>\n",
              "      <td>int32</td>\n",
              "    </tr>\n",
              "  </tbody>\n",
              "</table>\n",
              "</div>"
            ],
            "text/plain": [
              "                     unique_values  na_values data_type\n",
              "Financial Year                   5          0    object\n",
              "Financial Quarter                4          0     int32\n",
              "Force Name                      49          0    object\n",
              "Offence Description            135          0    object\n",
              "Offence Group                   10          0    object\n",
              "Offence Subgroup                30          0    object\n",
              "Offence Code                   135          0    object\n",
              "Number of Offences            3464          0     int32"
            ]
          },
          "execution_count": 33,
          "metadata": {},
          "output_type": "execute_result"
        }
      ],
      "source": [
        "# Displays a brief description of the number of unique values, null values and data type\n",
        "\n",
        "Desc = {'unique_values' : df_final.nunique(),\n",
        "        'na_values' : df_final.isna().sum(),\n",
        "        'data_type' : df_final.dtypes}\n",
        "\n",
        "pd.DataFrame(Desc)"
      ]
    },
    {
      "cell_type": "code",
      "execution_count": null,
      "id": "cb606372",
      "metadata": {
        "id": "cb606372"
      },
      "outputs": [],
      "source": [
        "# Calculate IQR\n",
        "q1 = df_final['Number of Offences'].quantile(0.25)\n",
        "q3 = df_final['Number of Offences'].quantile(0.75)\n",
        "iqr = q3 - q1"
      ]
    },
    {
      "cell_type": "code",
      "execution_count": null,
      "id": "118bdfd6",
      "metadata": {
        "id": "118bdfd6"
      },
      "outputs": [],
      "source": [
        "# Identify outliers using IQR\n",
        "outliers_iqr = df_final[(df_final['Number of Offences'] < q1 - 1.5 * iqr) | (df_final['Number of Offences'] > q3 + 1.5 * iqr)]"
      ]
    },
    {
      "cell_type": "code",
      "execution_count": null,
      "id": "3f791555",
      "metadata": {
        "id": "3f791555",
        "outputId": "cecbc692-5022-482e-a3b7-f065e4c9f628"
      },
      "outputs": [
        {
          "data": {
            "text/html": [
              "<div>\n",
              "<style scoped>\n",
              "    .dataframe tbody tr th:only-of-type {\n",
              "        vertical-align: middle;\n",
              "    }\n",
              "\n",
              "    .dataframe tbody tr th {\n",
              "        vertical-align: top;\n",
              "    }\n",
              "\n",
              "    .dataframe thead th {\n",
              "        text-align: right;\n",
              "    }\n",
              "</style>\n",
              "<table border=\"1\" class=\"dataframe\">\n",
              "  <thead>\n",
              "    <tr style=\"text-align: right;\">\n",
              "      <th></th>\n",
              "      <th>Financial Year</th>\n",
              "      <th>Financial Quarter</th>\n",
              "      <th>Force Name</th>\n",
              "      <th>Offence Description</th>\n",
              "      <th>Offence Group</th>\n",
              "      <th>Offence Subgroup</th>\n",
              "      <th>Offence Code</th>\n",
              "      <th>Number of Offences</th>\n",
              "    </tr>\n",
              "  </thead>\n",
              "  <tbody>\n",
              "    <tr>\n",
              "      <th>9</th>\n",
              "      <td>2013/14</td>\n",
              "      <td>1</td>\n",
              "      <td>Avon and Somerset</td>\n",
              "      <td>Assault with injury</td>\n",
              "      <td>Violence against the person</td>\n",
              "      <td>Violence with injury</td>\n",
              "      <td>8N</td>\n",
              "      <td>1902</td>\n",
              "    </tr>\n",
              "    <tr>\n",
              "      <th>11</th>\n",
              "      <td>2013/14</td>\n",
              "      <td>1</td>\n",
              "      <td>Avon and Somerset</td>\n",
              "      <td>Assault without injury</td>\n",
              "      <td>Violence against the person</td>\n",
              "      <td>Violence without injury</td>\n",
              "      <td>105A</td>\n",
              "      <td>1487</td>\n",
              "    </tr>\n",
              "    <tr>\n",
              "      <th>20</th>\n",
              "      <td>2013/14</td>\n",
              "      <td>1</td>\n",
              "      <td>Avon and Somerset</td>\n",
              "      <td>Burglary in a building other than a dwelling (...</td>\n",
              "      <td>Theft offences</td>\n",
              "      <td>Non-domestic burglary</td>\n",
              "      <td>30A</td>\n",
              "      <td>1347</td>\n",
              "    </tr>\n",
              "    <tr>\n",
              "      <th>21</th>\n",
              "      <td>2013/14</td>\n",
              "      <td>1</td>\n",
              "      <td>Avon and Somerset</td>\n",
              "      <td>Burglary in a dwelling(outcome only)</td>\n",
              "      <td>Theft offences</td>\n",
              "      <td>Domestic burglary</td>\n",
              "      <td>28A</td>\n",
              "      <td>757</td>\n",
              "    </tr>\n",
              "    <tr>\n",
              "      <th>33</th>\n",
              "      <td>2013/14</td>\n",
              "      <td>1</td>\n",
              "      <td>Avon and Somerset</td>\n",
              "      <td>Criminal damage to a building other than a dwe...</td>\n",
              "      <td>Criminal damage and arson</td>\n",
              "      <td>Criminal damage</td>\n",
              "      <td>58B</td>\n",
              "      <td>455</td>\n",
              "    </tr>\n",
              "    <tr>\n",
              "      <th>...</th>\n",
              "      <td>...</td>\n",
              "      <td>...</td>\n",
              "      <td>...</td>\n",
              "      <td>...</td>\n",
              "      <td>...</td>\n",
              "      <td>...</td>\n",
              "      <td>...</td>\n",
              "      <td>...</td>\n",
              "    </tr>\n",
              "    <tr>\n",
              "      <th>107591</th>\n",
              "      <td>2017/18</td>\n",
              "      <td>3</td>\n",
              "      <td>CIFAS</td>\n",
              "      <td>Fraud offences recorded by CIFAS</td>\n",
              "      <td>Fraud offences</td>\n",
              "      <td>Fraud: CIFAS</td>\n",
              "      <td>CIFAS</td>\n",
              "      <td>63381</td>\n",
              "    </tr>\n",
              "    <tr>\n",
              "      <th>107592</th>\n",
              "      <td>2017/18</td>\n",
              "      <td>3</td>\n",
              "      <td>UK Finance</td>\n",
              "      <td>Fraud offences recorded by UK Finance</td>\n",
              "      <td>Fraud offences</td>\n",
              "      <td>Fraud: UK Finance</td>\n",
              "      <td>UK Finance</td>\n",
              "      <td>17188</td>\n",
              "    </tr>\n",
              "    <tr>\n",
              "      <th>107593</th>\n",
              "      <td>2017/18</td>\n",
              "      <td>4</td>\n",
              "      <td>Action Fraud</td>\n",
              "      <td>Fraud offences recorded by Action Fraud</td>\n",
              "      <td>Fraud offences</td>\n",
              "      <td>Fraud: action fraud</td>\n",
              "      <td>AF</td>\n",
              "      <td>72815</td>\n",
              "    </tr>\n",
              "    <tr>\n",
              "      <th>107594</th>\n",
              "      <td>2017/18</td>\n",
              "      <td>4</td>\n",
              "      <td>CIFAS</td>\n",
              "      <td>Fraud offences recorded by CIFAS</td>\n",
              "      <td>Fraud offences</td>\n",
              "      <td>Fraud: CIFAS</td>\n",
              "      <td>CIFAS</td>\n",
              "      <td>66760</td>\n",
              "    </tr>\n",
              "    <tr>\n",
              "      <th>107595</th>\n",
              "      <td>2017/18</td>\n",
              "      <td>4</td>\n",
              "      <td>UK Finance</td>\n",
              "      <td>Fraud offences recorded by UK Finance</td>\n",
              "      <td>Fraud offences</td>\n",
              "      <td>Fraud: UK Finance</td>\n",
              "      <td>UK Finance</td>\n",
              "      <td>21116</td>\n",
              "    </tr>\n",
              "  </tbody>\n",
              "</table>\n",
              "<p>17392 rows × 8 columns</p>\n",
              "</div>"
            ],
            "text/plain": [
              "       Financial Year  Financial Quarter         Force Name  \\\n",
              "9             2013/14                  1  Avon and Somerset   \n",
              "11            2013/14                  1  Avon and Somerset   \n",
              "20            2013/14                  1  Avon and Somerset   \n",
              "21            2013/14                  1  Avon and Somerset   \n",
              "33            2013/14                  1  Avon and Somerset   \n",
              "...               ...                ...                ...   \n",
              "107591        2017/18                  3              CIFAS   \n",
              "107592        2017/18                  3         UK Finance   \n",
              "107593        2017/18                  4       Action Fraud   \n",
              "107594        2017/18                  4              CIFAS   \n",
              "107595        2017/18                  4         UK Finance   \n",
              "\n",
              "                                      Offence Description  \\\n",
              "9                                     Assault with injury   \n",
              "11                                 Assault without injury   \n",
              "20      Burglary in a building other than a dwelling (...   \n",
              "21                   Burglary in a dwelling(outcome only)   \n",
              "33      Criminal damage to a building other than a dwe...   \n",
              "...                                                   ...   \n",
              "107591                   Fraud offences recorded by CIFAS   \n",
              "107592              Fraud offences recorded by UK Finance   \n",
              "107593            Fraud offences recorded by Action Fraud   \n",
              "107594                   Fraud offences recorded by CIFAS   \n",
              "107595              Fraud offences recorded by UK Finance   \n",
              "\n",
              "                      Offence Group         Offence Subgroup Offence Code  \\\n",
              "9       Violence against the person     Violence with injury           8N   \n",
              "11      Violence against the person  Violence without injury         105A   \n",
              "20                   Theft offences    Non-domestic burglary          30A   \n",
              "21                   Theft offences        Domestic burglary          28A   \n",
              "33        Criminal damage and arson          Criminal damage          58B   \n",
              "...                             ...                      ...          ...   \n",
              "107591               Fraud offences             Fraud: CIFAS        CIFAS   \n",
              "107592               Fraud offences        Fraud: UK Finance   UK Finance   \n",
              "107593               Fraud offences      Fraud: action fraud           AF   \n",
              "107594               Fraud offences             Fraud: CIFAS        CIFAS   \n",
              "107595               Fraud offences        Fraud: UK Finance   UK Finance   \n",
              "\n",
              "        Number of Offences  \n",
              "9                     1902  \n",
              "11                    1487  \n",
              "20                    1347  \n",
              "21                     757  \n",
              "33                     455  \n",
              "...                    ...  \n",
              "107591               63381  \n",
              "107592               17188  \n",
              "107593               72815  \n",
              "107594               66760  \n",
              "107595               21116  \n",
              "\n",
              "[17392 rows x 8 columns]"
            ]
          },
          "execution_count": 36,
          "metadata": {},
          "output_type": "execute_result"
        }
      ],
      "source": [
        "outliers_iqr"
      ]
    },
    {
      "cell_type": "code",
      "execution_count": null,
      "id": "8c8dbcc6",
      "metadata": {
        "id": "8c8dbcc6"
      },
      "outputs": [],
      "source": [
        "# Winsorize extreme values\n",
        "df_final['Number of Offences'] = np.where(df_final['Number of Offences'] > outliers_iqr['Number of Offences'].max(),\n",
        "                                    outliers_iqr['Number of Offences'].max(), df_final['Number of Offences'])\n",
        "df_final['Number of Offences'] = np.where(df_final['Number of Offences'] < outliers_iqr['Number of Offences'].min(),\n",
        "                                    outliers_iqr['Number of Offences'].min(), df_final['Number of Offences'])"
      ]
    },
    {
      "cell_type": "markdown",
      "id": "f022650e",
      "metadata": {
        "id": "f022650e"
      },
      "source": [
        "# Visualizaton with Python"
      ]
    },
    {
      "cell_type": "code",
      "execution_count": null,
      "id": "b106ac80",
      "metadata": {
        "id": "b106ac80",
        "outputId": "15788b3c-ff40-4c32-f710-3c117570cff9"
      },
      "outputs": [
        {
          "data": {
            "image/png": "[encoded data removed]",
            "text/plain": [
              "<Figure size 1200x600 with 1 Axes>"
            ]
          },
          "metadata": {},
          "output_type": "display_data"
        }
      ],
      "source": [
        "plt.figure(figsize=(12, 6))\n",
        "sns.countplot(x='Offence Group', data=df_final)\n",
        "plt.title('Offence Distribution by Offence Group')\n",
        "plt.xlabel('Offence Group')\n",
        "plt.ylabel('Count of Offences')\n",
        "plt.xticks(rotation=45, ha='right')\n",
        "plt.show()"
      ]
    },
    {
      "cell_type": "code",
      "execution_count": null,
      "id": "161aca98",
      "metadata": {
        "id": "161aca98",
        "outputId": "e4fb3422-2b33-48e9-bf4d-65f05b5fea29"
      },
      "outputs": [
        {
          "data": {
            "image/png": "[encoded data removed]",
            "text/plain": [
              "<Figure size 640x480 with 1 Axes>"
            ]
          },
          "metadata": {},
          "output_type": "display_data"
        }
      ],
      "source": [
        "grouped_data = df_final.groupby(\"Financial Year\")[\"Number of Offences\"].sum()\n",
        "\n",
        "plt.bar(grouped_data.index, grouped_data.values, color = 'purple')\n",
        "plt.xlabel(\"Financial Year\")\n",
        "plt.ylabel(\"Total Offences\")\n",
        "plt.title(\"Number of Offences by Financial Year\")\n",
        "plt.show()"
      ]
    },
    {
      "cell_type": "code",
      "execution_count": null,
      "id": "ce4cb6d8",
      "metadata": {
        "id": "ce4cb6d8",
        "outputId": "353a5bc0-75e9-4a23-cb00-8aafb6a9500d"
      },
      "outputs": [
        {
          "data": {
            "image/png": "[encoded data removed]",
            "text/plain": [
              "<Figure size 640x480 with 1 Axes>"
            ]
          },
          "metadata": {},
          "output_type": "display_data"
        }
      ],
      "source": [
        "plt.plot(grouped_data.index, grouped_data.values, color = 'purple')\n",
        "plt.xlabel(\"Financial Year\")\n",
        "plt.ylabel(\"Number of Offences\")\n",
        "plt.title(\"Number of Offences by Financial Year (Line Plot)\")\n",
        "plt.show()"
      ]
    },
    {
      "cell_type": "code",
      "execution_count": null,
      "id": "48d44488",
      "metadata": {
        "id": "48d44488",
        "outputId": "71acf199-9521-4197-d950-f8d8bf56e7f7"
      },
      "outputs": [
        {
          "name": "stderr",
          "output_type": "stream",
          "text": [
            "C:\\Users\\Emeka\\anaconda3\\Lib\\site-packages\\seaborn\\axisgrid.py:118: UserWarning: The figure layout has changed to tight\n",
            "  self._figure.tight_layout(*args, **kwargs)\n"
          ]
        },
        {
          "data": {
            "text/plain": [
              "<seaborn.axisgrid.FacetGrid at 0x27044a29790>"
            ]
          },
          "execution_count": 41,
          "metadata": {},
          "output_type": "execute_result"
        },
        {
          "data": {
            "image/png": "[encoded data removed]",
            "text/plain": [
              "<Figure size 2500x1000 with 10 Axes>"
            ]
          },
          "metadata": {},
          "output_type": "display_data"
        }
      ],
      "source": [
        "g = sns.FacetGrid(df_final, col = \"Offence Group\", height=5,col_wrap=5)\n",
        "g.map(plt.bar, \"Financial Year\",'Number of Offences', color = 'purple')"
      ]
    },
    {
      "cell_type": "code",
      "execution_count": null,
      "id": "bff05ffe",
      "metadata": {
        "id": "bff05ffe",
        "outputId": "5ceaf3dc-04f2-49ee-e551-807a7b3f4b89"
      },
      "outputs": [
        {
          "data": {
            "image/png": "[encoded data removed]",
            "text/plain": [
              "<Figure size 640x480 with 1 Axes>"
            ]
          },
          "metadata": {},
          "output_type": "display_data"
        }
      ],
      "source": [
        "grouped_df = df_final.groupby(\"Offence Group\")[\"Number of Offences\"].sum()\n",
        "most_prevalent_group = grouped_df.sort_values(ascending=False)\n",
        "most_prevalent_group.index[0]\n",
        "\n",
        "plt.bar(grouped_df.index, grouped_df.values, color = \"purple\")\n",
        "plt.xlabel(\"Offence Group\")\n",
        "plt.ylabel(\"Total Offences\")\n",
        "plt.title(\"Most Prevalent Offence Group\")\n",
        "plt.xticks(rotation=45, ha='right')\n",
        "plt.show()"
      ]
    },
    {
      "cell_type": "code",
      "execution_count": null,
      "id": "0d6de541",
      "metadata": {
        "id": "0d6de541",
        "outputId": "b45c59cd-03d1-47d1-b60a-a8a2453eebba"
      },
      "outputs": [
        {
          "data": {
            "image/png": "[encoded data removed]",
            "text/plain": [
              "<Figure size 1400x800 with 1 Axes>"
            ]
          },
          "metadata": {},
          "output_type": "display_data"
        }
      ],
      "source": [
        "top_offence_subgroups = df_final.groupby('Offence Subgroup')['Number of Offences'].mean().nlargest(10)\n",
        "plt.figure(figsize=(14, 8))\n",
        "sns.barplot(x=top_offence_subgroups.values, y=top_offence_subgroups.index, palette='viridis')\n",
        "plt.title('Top 10 Offence Subgroups with Highest Average Offences')\n",
        "plt.xlabel('Average Number of Offences')\n",
        "plt.ylabel('Offence Subgroup')\n",
        "plt.show()"
      ]
    },
    {
      "cell_type": "markdown",
      "id": "a74b2c44",
      "metadata": {
        "id": "a74b2c44"
      },
      "source": [
        "# Machine Learning Predicting Number of Offences"
      ]
    },
    {
      "cell_type": "code",
      "execution_count": null,
      "id": "6cfcc84a",
      "metadata": {
        "id": "6cfcc84a"
      },
      "outputs": [],
      "source": [
        "from sklearn.model_selection import train_test_split\n",
        "from sklearn.linear_model import LinearRegression\n",
        "from sklearn.metrics import mean_squared_error, r2_score\n",
        "from sklearn.preprocessing import LabelEncoder\n",
        "from sklearn.preprocessing import MinMaxScaler"
      ]
    },
    {
      "cell_type": "code",
      "execution_count": null,
      "id": "9f23ebbc",
      "metadata": {
        "id": "9f23ebbc"
      },
      "outputs": [],
      "source": [
        "# Converting categorical variables to numerical using Label Encoding\n",
        "label_encoder = LabelEncoder()\n",
        "df_final['Financial Year'] = label_encoder.fit_transform(df_final['Financial Year'])\n",
        "df_final['Force Name'] = label_encoder.fit_transform(df_final['Force Name'])\n",
        "df_final['Offence Description'] = label_encoder.fit_transform(df_final['Offence Description'])\n",
        "df_final['Offence Group'] = label_encoder.fit_transform(df_final['Offence Group'])\n",
        "df_final['Offence Subgroup'] = label_encoder.fit_transform(df_final['Offence Subgroup'])\n",
        "df_final['Offence Code'] = label_encoder.fit_transform(df_final['Offence Code'])"
      ]
    },
    {
      "cell_type": "code",
      "execution_count": null,
      "id": "85ae968b",
      "metadata": {
        "id": "85ae968b"
      },
      "outputs": [],
      "source": [
        "# Choosing our features and target variable\n",
        "X = df_final[['Financial Year', 'Force Name', 'Offence Description', 'Offence Group', 'Offence Subgroup', 'Offence Code']]\n",
        "y = df_final['Number of Offences']"
      ]
    },
    {
      "cell_type": "code",
      "execution_count": null,
      "id": "70fab575",
      "metadata": {
        "id": "70fab575"
      },
      "outputs": [],
      "source": [
        "# Splitting the dataset into training and testing sets\n",
        "\n",
        "X_train, X_test, y_train, y_test = train_test_split(X, y, test_size=0.2, random_state=42)\n",
        "# test sixe of 0.2 =  80/20 (80% train, 20% test)\n"
      ]
    },
    {
      "cell_type": "code",
      "execution_count": null,
      "id": "b3f98ce8",
      "metadata": {
        "id": "b3f98ce8",
        "outputId": "5d6e6149-dba4-46f2-91c0-99680931c1b8"
      },
      "outputs": [
        {
          "data": {
            "text/html": [
              "<div>\n",
              "<style scoped>\n",
              "    .dataframe tbody tr th:only-of-type {\n",
              "        vertical-align: middle;\n",
              "    }\n",
              "\n",
              "    .dataframe tbody tr th {\n",
              "        vertical-align: top;\n",
              "    }\n",
              "\n",
              "    .dataframe thead th {\n",
              "        text-align: right;\n",
              "    }\n",
              "</style>\n",
              "<table border=\"1\" class=\"dataframe\">\n",
              "  <thead>\n",
              "    <tr style=\"text-align: right;\">\n",
              "      <th></th>\n",
              "      <th>Financial Year</th>\n",
              "      <th>Force Name</th>\n",
              "      <th>Offence Description</th>\n",
              "      <th>Offence Group</th>\n",
              "      <th>Offence Subgroup</th>\n",
              "      <th>Offence Code</th>\n",
              "    </tr>\n",
              "  </thead>\n",
              "  <tbody>\n",
              "    <tr>\n",
              "      <th>41207</th>\n",
              "      <td>1</td>\n",
              "      <td>42</td>\n",
              "      <td>35</td>\n",
              "      <td>9</td>\n",
              "      <td>28</td>\n",
              "      <td>66</td>\n",
              "    </tr>\n",
              "    <tr>\n",
              "      <th>25815</th>\n",
              "      <td>1</td>\n",
              "      <td>46</td>\n",
              "      <td>130</td>\n",
              "      <td>7</td>\n",
              "      <td>13</td>\n",
              "      <td>100</td>\n",
              "    </tr>\n",
              "    <tr>\n",
              "      <th>102080</th>\n",
              "      <td>4</td>\n",
              "      <td>2</td>\n",
              "      <td>133</td>\n",
              "      <td>5</td>\n",
              "      <td>17</td>\n",
              "      <td>94</td>\n",
              "    </tr>\n",
              "    <tr>\n",
              "      <th>74865</th>\n",
              "      <td>3</td>\n",
              "      <td>11</td>\n",
              "      <td>37</td>\n",
              "      <td>9</td>\n",
              "      <td>29</td>\n",
              "      <td>11</td>\n",
              "    </tr>\n",
              "    <tr>\n",
              "      <th>52901</th>\n",
              "      <td>2</td>\n",
              "      <td>3</td>\n",
              "      <td>113</td>\n",
              "      <td>7</td>\n",
              "      <td>13</td>\n",
              "      <td>24</td>\n",
              "    </tr>\n",
              "    <tr>\n",
              "      <th>...</th>\n",
              "      <td>...</td>\n",
              "      <td>...</td>\n",
              "      <td>...</td>\n",
              "      <td>...</td>\n",
              "      <td>...</td>\n",
              "      <td>...</td>\n",
              "    </tr>\n",
              "    <tr>\n",
              "      <th>54886</th>\n",
              "      <td>2</td>\n",
              "      <td>23</td>\n",
              "      <td>35</td>\n",
              "      <td>9</td>\n",
              "      <td>28</td>\n",
              "      <td>66</td>\n",
              "    </tr>\n",
              "    <tr>\n",
              "      <th>76820</th>\n",
              "      <td>3</td>\n",
              "      <td>28</td>\n",
              "      <td>61</td>\n",
              "      <td>9</td>\n",
              "      <td>22</td>\n",
              "      <td>114</td>\n",
              "    </tr>\n",
              "    <tr>\n",
              "      <th>103694</th>\n",
              "      <td>4</td>\n",
              "      <td>18</td>\n",
              "      <td>40</td>\n",
              "      <td>9</td>\n",
              "      <td>10</td>\n",
              "      <td>60</td>\n",
              "    </tr>\n",
              "    <tr>\n",
              "      <th>860</th>\n",
              "      <td>0</td>\n",
              "      <td>10</td>\n",
              "      <td>42</td>\n",
              "      <td>0</td>\n",
              "      <td>2</td>\n",
              "      <td>83</td>\n",
              "    </tr>\n",
              "    <tr>\n",
              "      <th>15795</th>\n",
              "      <td>0</td>\n",
              "      <td>2</td>\n",
              "      <td>116</td>\n",
              "      <td>7</td>\n",
              "      <td>13</td>\n",
              "      <td>110</td>\n",
              "    </tr>\n",
              "  </tbody>\n",
              "</table>\n",
              "<p>86076 rows × 6 columns</p>\n",
              "</div>"
            ],
            "text/plain": [
              "        Financial Year  Force Name  Offence Description  Offence Group  \\\n",
              "41207                1          42                   35              9   \n",
              "25815                1          46                  130              7   \n",
              "102080               4           2                  133              5   \n",
              "74865                3          11                   37              9   \n",
              "52901                2           3                  113              7   \n",
              "...                ...         ...                  ...            ...   \n",
              "54886                2          23                   35              9   \n",
              "76820                3          28                   61              9   \n",
              "103694               4          18                   40              9   \n",
              "860                  0          10                   42              0   \n",
              "15795                0           2                  116              7   \n",
              "\n",
              "        Offence Subgroup  Offence Code  \n",
              "41207                 28            66  \n",
              "25815                 13           100  \n",
              "102080                17            94  \n",
              "74865                 29            11  \n",
              "52901                 13            24  \n",
              "...                  ...           ...  \n",
              "54886                 28            66  \n",
              "76820                 22           114  \n",
              "103694                10            60  \n",
              "860                    2            83  \n",
              "15795                 13           110  \n",
              "\n",
              "[86076 rows x 6 columns]"
            ]
          },
          "execution_count": 48,
          "metadata": {},
          "output_type": "execute_result"
        }
      ],
      "source": [
        "X_train"
      ]
    },
    {
      "cell_type": "code",
      "execution_count": null,
      "id": "6c0cebde",
      "metadata": {
        "id": "6c0cebde",
        "outputId": "968fbb67-23f4-46ac-ca8c-98a41b012c71"
      },
      "outputs": [
        {
          "data": {
            "text/plain": [
              "(86076, 6)"
            ]
          },
          "execution_count": 49,
          "metadata": {},
          "output_type": "execute_result"
        }
      ],
      "source": [
        "X_train.shape"
      ]
    },
    {
      "cell_type": "code",
      "execution_count": null,
      "id": "1970c99b",
      "metadata": {
        "id": "1970c99b",
        "outputId": "98b78f65-9964-4353-84ff-1a8af5610152"
      },
      "outputs": [
        {
          "data": {
            "text/plain": [
              "(21520, 6)"
            ]
          },
          "execution_count": 50,
          "metadata": {},
          "output_type": "execute_result"
        }
      ],
      "source": [
        "X_test.shape"
      ]
    },
    {
      "cell_type": "markdown",
      "id": "bd53c93c",
      "metadata": {
        "id": "bd53c93c"
      },
      "source": [
        "# Linear Regression Model"
      ]
    },
    {
      "cell_type": "code",
      "execution_count": null,
      "id": "0ecab511",
      "metadata": {
        "id": "0ecab511"
      },
      "outputs": [],
      "source": [
        "# Creating the Linear Regression Model\n",
        "LR = LinearRegression()"
      ]
    },
    {
      "cell_type": "code",
      "execution_count": null,
      "id": "6dfe0c59",
      "metadata": {
        "id": "6dfe0c59",
        "outputId": "db9794ce-d72b-4632-8b58-3c418db18ee8"
      },
      "outputs": [
        {
          "data": {
            "text/html": [
              "<style>#sk-container-id-1 {color: black;}#sk-container-id-1 pre{padding: 0;}#sk-container-id-1 div.sk-toggleable {background-color: white;}#sk-container-id-1 label.sk-toggleable__label {cursor: pointer;display: block;width: 100%;margin-bottom: 0;padding: 0.3em;box-sizing: border-box;text-align: center;}#sk-container-id-1 label.sk-toggleable__label-arrow:before {content: \"▸\";float: left;margin-right: 0.25em;color: #696969;}#sk-container-id-1 label.sk-toggleable__label-arrow:hover:before {color: black;}#sk-container-id-1 div.sk-estimator:hover label.sk-toggleable__label-arrow:before {color: black;}#sk-container-id-1 div.sk-toggleable__content {max-height: 0;max-width: 0;overflow: hidden;text-align: left;background-color: #f0f8ff;}#sk-container-id-1 div.sk-toggleable__content pre {margin: 0.2em;color: black;border-radius: 0.25em;background-color: #f0f8ff;}#sk-container-id-1 input.sk-toggleable__control:checked~div.sk-toggleable__content {max-height: 200px;max-width: 100%;overflow: auto;}#sk-container-id-1 input.sk-toggleable__control:checked~label.sk-toggleable__label-arrow:before {content: \"▾\";}#sk-container-id-1 div.sk-estimator input.sk-toggleable__control:checked~label.sk-toggleable__label {background-color: #d4ebff;}#sk-container-id-1 div.sk-label input.sk-toggleable__control:checked~label.sk-toggleable__label {background-color: #d4ebff;}#sk-container-id-1 input.sk-hidden--visually {border: 0;clip: rect(1px 1px 1px 1px);clip: rect(1px, 1px, 1px, 1px);height: 1px;margin: -1px;overflow: hidden;padding: 0;position: absolute;width: 1px;}#sk-container-id-1 div.sk-estimator {font-family: monospace;background-color: #f0f8ff;border: 1px dotted black;border-radius: 0.25em;box-sizing: border-box;margin-bottom: 0.5em;}#sk-container-id-1 div.sk-estimator:hover {background-color: #d4ebff;}#sk-container-id-1 div.sk-parallel-item::after {content: \"\";width: 100%;border-bottom: 1px solid gray;flex-grow: 1;}#sk-container-id-1 div.sk-label:hover label.sk-toggleable__label {background-color: #d4ebff;}#sk-container-id-1 div.sk-serial::before {content: \"\";position: absolute;border-left: 1px solid gray;box-sizing: border-box;top: 0;bottom: 0;left: 50%;z-index: 0;}#sk-container-id-1 div.sk-serial {display: flex;flex-direction: column;align-items: center;background-color: white;padding-right: 0.2em;padding-left: 0.2em;position: relative;}#sk-container-id-1 div.sk-item {position: relative;z-index: 1;}#sk-container-id-1 div.sk-parallel {display: flex;align-items: stretch;justify-content: center;background-color: white;position: relative;}#sk-container-id-1 div.sk-item::before, #sk-container-id-1 div.sk-parallel-item::before {content: \"\";position: absolute;border-left: 1px solid gray;box-sizing: border-box;top: 0;bottom: 0;left: 50%;z-index: -1;}#sk-container-id-1 div.sk-parallel-item {display: flex;flex-direction: column;z-index: 1;position: relative;background-color: white;}#sk-container-id-1 div.sk-parallel-item:first-child::after {align-self: flex-end;width: 50%;}#sk-container-id-1 div.sk-parallel-item:last-child::after {align-self: flex-start;width: 50%;}#sk-container-id-1 div.sk-parallel-item:only-child::after {width: 0;}#sk-container-id-1 div.sk-dashed-wrapped {border: 1px dashed gray;margin: 0 0.4em 0.5em 0.4em;box-sizing: border-box;padding-bottom: 0.4em;background-color: white;}#sk-container-id-1 div.sk-label label {font-family: monospace;font-weight: bold;display: inline-block;line-height: 1.2em;}#sk-container-id-1 div.sk-label-container {text-align: center;}#sk-container-id-1 div.sk-container {/* jupyter's `normalize.less` sets `[hidden] { display: none; }` but bootstrap.min.css set `[hidden] { display: none !important; }` so we also need the `!important` here to be able to override the default hidden behavior on the sphinx rendered scikit-learn.org. See: https://github.com/scikit-learn/scikit-learn/issues/21755 */display: inline-block !important;position: relative;}#sk-container-id-1 div.sk-text-repr-fallback {display: none;}</style><div id=\"sk-container-id-1\" class=\"sk-top-container\"><div class=\"sk-text-repr-fallback\"><pre>LinearRegression()</pre><b>In a Jupyter environment, please rerun this cell to show the HTML representation or trust the notebook. <br />On GitHub, the HTML representation is unable to render, please try loading this page with nbviewer.org.</b></div><div class=\"sk-container\" hidden><div class=\"sk-item\"><div class=\"sk-estimator sk-toggleable\"><input class=\"sk-toggleable__control sk-hidden--visually\" id=\"sk-estimator-id-1\" type=\"checkbox\" checked><label for=\"sk-estimator-id-1\" class=\"sk-toggleable__label sk-toggleable__label-arrow\">LinearRegression</label><div class=\"sk-toggleable__content\"><pre>LinearRegression()</pre></div></div></div></div></div>"
            ],
            "text/plain": [
              "LinearRegression()"
            ]
          },
          "execution_count": 52,
          "metadata": {},
          "output_type": "execute_result"
        }
      ],
      "source": [
        "# Fit the model to the training data\n",
        "LR.fit(X_train, y_train)"
      ]
    },
    {
      "cell_type": "code",
      "execution_count": null,
      "id": "dc59f427",
      "metadata": {
        "id": "dc59f427"
      },
      "outputs": [],
      "source": [
        "# Make Prediction based on the model\n",
        "\n",
        "y_predict = LR.predict(X_test)"
      ]
    },
    {
      "cell_type": "code",
      "execution_count": null,
      "id": "888097e9",
      "metadata": {
        "id": "888097e9",
        "outputId": "bfed4cca-f7ec-491b-c0ca-c58c9798f369"
      },
      "outputs": [
        {
          "data": {
            "text/plain": [
              "array([297.43936005, 187.45484178, 437.93066219, ..., 385.0435396 ,\n",
              "       244.64402558, 366.72225238])"
            ]
          },
          "execution_count": 54,
          "metadata": {},
          "output_type": "execute_result"
        }
      ],
      "source": [
        "y_predict\n"
      ]
    },
    {
      "cell_type": "code",
      "execution_count": null,
      "id": "f47aa49f",
      "metadata": {
        "id": "f47aa49f",
        "outputId": "4423b9b6-31c4-4d03-9523-cea650819f1c"
      },
      "outputs": [
        {
          "data": {
            "text/plain": [
              "0.004828158318755049"
            ]
          },
          "execution_count": 55,
          "metadata": {},
          "output_type": "execute_result"
        }
      ],
      "source": [
        "# Checking accuracy of the model\n",
        "\n",
        "LR.score(X_test, y_test)"
      ]
    },
    {
      "cell_type": "code",
      "execution_count": null,
      "id": "e891455a",
      "metadata": {
        "id": "e891455a"
      },
      "outputs": [],
      "source": [
        "# Using Evaluation metrics to test model\n",
        "\n",
        "from sklearn import metrics"
      ]
    },
    {
      "cell_type": "code",
      "execution_count": null,
      "id": "e4b874f9",
      "metadata": {
        "id": "e4b874f9",
        "outputId": "9cd4a406-0457-4ca5-ab0b-6a244b698f13"
      },
      "outputs": [
        {
          "name": "stdout",
          "output_type": "stream",
          "text": [
            "Mean Squared Error:  1881624.630196311\n"
          ]
        }
      ],
      "source": [
        "# Mean Squared Error\n",
        "\n",
        "MSE = print('Mean Squared Error: ', metrics.mean_squared_error(y_test, y_predict))"
      ]
    },
    {
      "cell_type": "code",
      "execution_count": null,
      "id": "f4e13aba",
      "metadata": {
        "id": "f4e13aba",
        "outputId": "f6376616-95f7-4eea-e639-6764137f9437"
      },
      "outputs": [
        {
          "name": "stdout",
          "output_type": "stream",
          "text": [
            "Mean Absolute Error:  283.85855524222006\n"
          ]
        }
      ],
      "source": [
        "# Mean Absolute Error\n",
        "\n",
        "MAE = print('Mean Absolute Error: ', metrics.mean_absolute_error(y_test, y_predict))"
      ]
    },
    {
      "cell_type": "code",
      "execution_count": null,
      "id": "13806091",
      "metadata": {
        "id": "13806091",
        "outputId": "ce51d81e-2872-4e22-fc19-071e6a237d1a"
      },
      "outputs": [
        {
          "name": "stdout",
          "output_type": "stream",
          "text": [
            "Root Mean Sq Error: 1371.7232338180727\n"
          ]
        }
      ],
      "source": [
        "#Root Mean Squared Error\n",
        "\n",
        "RMSE = print('Root Mean Sq Error:', np.sqrt(metrics.mean_squared_error(y_test, y_predict)))"
      ]
    },
    {
      "cell_type": "code",
      "execution_count": null,
      "id": "5d8f30eb",
      "metadata": {
        "id": "5d8f30eb",
        "outputId": "9112a402-0a79-4694-97c7-a3180d96a831"
      },
      "outputs": [
        {
          "data": {
            "image/png": "[encoded data removed]",
            "text/plain": [
              "<Figure size 640x480 with 1 Axes>"
            ]
          },
          "metadata": {},
          "output_type": "display_data"
        }
      ],
      "source": [
        "# Visualizing actual vs Predicted values\n",
        "\n",
        "sns.scatterplot(x=y_test, y=y_predict, s = 50)\n",
        "plt.title('Actual vs. Predicted Values (Linear Regression)')\n",
        "plt.xlabel('Actual Number of Offenses')\n",
        "plt.ylabel('Predicted Number of Offences')\n",
        "plt.show()"
      ]
    },
    {
      "cell_type": "markdown",
      "id": "547d4e4f",
      "metadata": {
        "id": "547d4e4f"
      },
      "source": [
        "# Support Vector Regression (Linear)"
      ]
    },
    {
      "cell_type": "code",
      "execution_count": null,
      "id": "f45a36a0",
      "metadata": {
        "id": "f45a36a0"
      },
      "outputs": [],
      "source": [
        "from sklearn.svm import SVR"
      ]
    },
    {
      "cell_type": "code",
      "execution_count": null,
      "id": "ca61a44a",
      "metadata": {
        "id": "ca61a44a"
      },
      "outputs": [],
      "source": [
        "Linear = SVR(kernel = 'linear')\n",
        "Linear.fit(X_train, y_train)\n"
      ]
    },
    {
      "cell_type": "code",
      "execution_count": null,
      "id": "e7bce1ef",
      "metadata": {
        "id": "e7bce1ef"
      },
      "outputs": [],
      "source": [
        "y_predict = Linear.predict(X_test)"
      ]
    },
    {
      "cell_type": "code",
      "execution_count": null,
      "id": "b503cba2",
      "metadata": {
        "id": "b503cba2"
      },
      "outputs": [],
      "source": [
        "y_predict"
      ]
    },
    {
      "cell_type": "code",
      "execution_count": null,
      "id": "1fd505c9",
      "metadata": {
        "id": "1fd505c9"
      },
      "outputs": [],
      "source": [
        "# Mean Squared error\n",
        "LMSE = print('Mean Squared Error: ', metrics.mean_squared_error(y_test, y_predict))\n",
        "\n",
        "# Mean Absolute Error\n",
        "LMAE = print('Mean Absolute Error: ', metrics.mean_absolute_error(y_test, y_predict))\n",
        "\n",
        "# Root Mean Squared Error\n",
        "L_RMSE = print('Root Mean Sq Error:', np.sqrt(metrics.mean_squared_error(y_test, y_predict)))"
      ]
    },
    {
      "cell_type": "code",
      "execution_count": null,
      "id": "74903b14",
      "metadata": {
        "id": "74903b14"
      },
      "outputs": [],
      "source": [
        "sns.scatterplot(x=y_test, y=y_predict)\n",
        "plt.title('Actual vs. Predicted Values (Linear SVR)')\n",
        "plt.xlabel('Actual Number of Offenses')\n",
        "plt.ylabel('Predicted Number of Offences')\n",
        "plt.show()"
      ]
    },
    {
      "cell_type": "markdown",
      "id": "05c1b0f6",
      "metadata": {
        "id": "05c1b0f6"
      },
      "source": [
        "# Decision Tree Regression"
      ]
    },
    {
      "cell_type": "code",
      "execution_count": null,
      "id": "8dfe43c5",
      "metadata": {
        "id": "8dfe43c5"
      },
      "outputs": [],
      "source": [
        "from sklearn.tree import DecisionTreeRegressor\n"
      ]
    },
    {
      "cell_type": "code",
      "execution_count": null,
      "id": "7f0fc5ee",
      "metadata": {
        "id": "7f0fc5ee",
        "outputId": "2d8701b1-85b1-43a7-f09b-838143a6e907"
      },
      "outputs": [
        {
          "data": {
            "text/html": [
              "<style>#sk-container-id-2 {color: black;}#sk-container-id-2 pre{padding: 0;}#sk-container-id-2 div.sk-toggleable {background-color: white;}#sk-container-id-2 label.sk-toggleable__label {cursor: pointer;display: block;width: 100%;margin-bottom: 0;padding: 0.3em;box-sizing: border-box;text-align: center;}#sk-container-id-2 label.sk-toggleable__label-arrow:before {content: \"▸\";float: left;margin-right: 0.25em;color: #696969;}#sk-container-id-2 label.sk-toggleable__label-arrow:hover:before {color: black;}#sk-container-id-2 div.sk-estimator:hover label.sk-toggleable__label-arrow:before {color: black;}#sk-container-id-2 div.sk-toggleable__content {max-height: 0;max-width: 0;overflow: hidden;text-align: left;background-color: #f0f8ff;}#sk-container-id-2 div.sk-toggleable__content pre {margin: 0.2em;color: black;border-radius: 0.25em;background-color: #f0f8ff;}#sk-container-id-2 input.sk-toggleable__control:checked~div.sk-toggleable__content {max-height: 200px;max-width: 100%;overflow: auto;}#sk-container-id-2 input.sk-toggleable__control:checked~label.sk-toggleable__label-arrow:before {content: \"▾\";}#sk-container-id-2 div.sk-estimator input.sk-toggleable__control:checked~label.sk-toggleable__label {background-color: #d4ebff;}#sk-container-id-2 div.sk-label input.sk-toggleable__control:checked~label.sk-toggleable__label {background-color: #d4ebff;}#sk-container-id-2 input.sk-hidden--visually {border: 0;clip: rect(1px 1px 1px 1px);clip: rect(1px, 1px, 1px, 1px);height: 1px;margin: -1px;overflow: hidden;padding: 0;position: absolute;width: 1px;}#sk-container-id-2 div.sk-estimator {font-family: monospace;background-color: #f0f8ff;border: 1px dotted black;border-radius: 0.25em;box-sizing: border-box;margin-bottom: 0.5em;}#sk-container-id-2 div.sk-estimator:hover {background-color: #d4ebff;}#sk-container-id-2 div.sk-parallel-item::after {content: \"\";width: 100%;border-bottom: 1px solid gray;flex-grow: 1;}#sk-container-id-2 div.sk-label:hover label.sk-toggleable__label {background-color: #d4ebff;}#sk-container-id-2 div.sk-serial::before {content: \"\";position: absolute;border-left: 1px solid gray;box-sizing: border-box;top: 0;bottom: 0;left: 50%;z-index: 0;}#sk-container-id-2 div.sk-serial {display: flex;flex-direction: column;align-items: center;background-color: white;padding-right: 0.2em;padding-left: 0.2em;position: relative;}#sk-container-id-2 div.sk-item {position: relative;z-index: 1;}#sk-container-id-2 div.sk-parallel {display: flex;align-items: stretch;justify-content: center;background-color: white;position: relative;}#sk-container-id-2 div.sk-item::before, #sk-container-id-2 div.sk-parallel-item::before {content: \"\";position: absolute;border-left: 1px solid gray;box-sizing: border-box;top: 0;bottom: 0;left: 50%;z-index: -1;}#sk-container-id-2 div.sk-parallel-item {display: flex;flex-direction: column;z-index: 1;position: relative;background-color: white;}#sk-container-id-2 div.sk-parallel-item:first-child::after {align-self: flex-end;width: 50%;}#sk-container-id-2 div.sk-parallel-item:last-child::after {align-self: flex-start;width: 50%;}#sk-container-id-2 div.sk-parallel-item:only-child::after {width: 0;}#sk-container-id-2 div.sk-dashed-wrapped {border: 1px dashed gray;margin: 0 0.4em 0.5em 0.4em;box-sizing: border-box;padding-bottom: 0.4em;background-color: white;}#sk-container-id-2 div.sk-label label {font-family: monospace;font-weight: bold;display: inline-block;line-height: 1.2em;}#sk-container-id-2 div.sk-label-container {text-align: center;}#sk-container-id-2 div.sk-container {/* jupyter's `normalize.less` sets `[hidden] { display: none; }` but bootstrap.min.css set `[hidden] { display: none !important; }` so we also need the `!important` here to be able to override the default hidden behavior on the sphinx rendered scikit-learn.org. See: https://github.com/scikit-learn/scikit-learn/issues/21755 */display: inline-block !important;position: relative;}#sk-container-id-2 div.sk-text-repr-fallback {display: none;}</style><div id=\"sk-container-id-2\" class=\"sk-top-container\"><div class=\"sk-text-repr-fallback\"><pre>DecisionTreeRegressor()</pre><b>In a Jupyter environment, please rerun this cell to show the HTML representation or trust the notebook. <br />On GitHub, the HTML representation is unable to render, please try loading this page with nbviewer.org.</b></div><div class=\"sk-container\" hidden><div class=\"sk-item\"><div class=\"sk-estimator sk-toggleable\"><input class=\"sk-toggleable__control sk-hidden--visually\" id=\"sk-estimator-id-2\" type=\"checkbox\" checked><label for=\"sk-estimator-id-2\" class=\"sk-toggleable__label sk-toggleable__label-arrow\">DecisionTreeRegressor</label><div class=\"sk-toggleable__content\"><pre>DecisionTreeRegressor()</pre></div></div></div></div></div>"
            ],
            "text/plain": [
              "DecisionTreeRegressor()"
            ]
          },
          "execution_count": 62,
          "metadata": {},
          "output_type": "execute_result"
        }
      ],
      "source": [
        "DTR = DecisionTreeRegressor()\n",
        "DTR.fit(X_train, y_train)"
      ]
    },
    {
      "cell_type": "code",
      "execution_count": null,
      "id": "e6e630d3",
      "metadata": {
        "id": "e6e630d3"
      },
      "outputs": [],
      "source": [
        "y_predict = DTR.predict(X_test)"
      ]
    },
    {
      "cell_type": "code",
      "execution_count": null,
      "id": "25c8cbf4",
      "metadata": {
        "id": "25c8cbf4",
        "outputId": "49020381-963f-4fa3-dcb8-a04602182817"
      },
      "outputs": [
        {
          "data": {
            "text/plain": [
              "array([187. , 187. , 187. , ..., 187. , 204.5, 187. ])"
            ]
          },
          "execution_count": 64,
          "metadata": {},
          "output_type": "execute_result"
        }
      ],
      "source": [
        "y_predict"
      ]
    },
    {
      "cell_type": "code",
      "execution_count": null,
      "id": "a75ce150",
      "metadata": {
        "id": "a75ce150",
        "outputId": "f9d65514-15dc-4869-c0be-d9ee179ab64f"
      },
      "outputs": [
        {
          "data": {
            "text/plain": [
              "0.9854989278857784"
            ]
          },
          "execution_count": 65,
          "metadata": {},
          "output_type": "execute_result"
        }
      ],
      "source": [
        "DTR.score(X_test, y_test)"
      ]
    },
    {
      "cell_type": "code",
      "execution_count": null,
      "id": "cdc25a82",
      "metadata": {
        "id": "cdc25a82",
        "outputId": "a5877f6b-214e-44e2-f8d8-baee266f17f1"
      },
      "outputs": [
        {
          "name": "stdout",
          "output_type": "stream",
          "text": [
            "Mean Squared Error:  27417.952670642295\n",
            "Mean Absolute Error:  18.151130731102853\n",
            "Root Mean Sq Error: 165.58367271757893\n"
          ]
        }
      ],
      "source": [
        "D_MSE = print('Mean Squared Error: ', metrics.mean_squared_error(y_test, y_predict))\n",
        "\n",
        "D_MAE = print('Mean Absolute Error: ', metrics.mean_absolute_error(y_test, y_predict))\n",
        "\n",
        "D_RMSE = print('Root Mean Sq Error:', np.sqrt(metrics.mean_squared_error(y_test, y_predict)))"
      ]
    },
    {
      "cell_type": "code",
      "execution_count": null,
      "id": "d1a4540d",
      "metadata": {
        "id": "d1a4540d",
        "outputId": "0454220b-3db2-4185-e18b-e844028ffda9"
      },
      "outputs": [
        {
          "data": {
            "image/png": "[encoded data removed]",
            "text/plain": [
              "<Figure size 640x480 with 1 Axes>"
            ]
          },
          "metadata": {},
          "output_type": "display_data"
        }
      ],
      "source": [
        "sns.scatterplot(x=y_test, y=y_predict)\n",
        "plt.title('Actual vs. Predicted Values (Decision Tree Regression)')\n",
        "plt.xlabel('Actual Number of Offenses')\n",
        "plt.ylabel('Predicted Number of Offences')\n",
        "plt.show()"
      ]
    },
    {
      "cell_type": "markdown",
      "id": "4735c2fa",
      "metadata": {
        "id": "4735c2fa"
      },
      "source": [
        "# Random Forest Regression"
      ]
    },
    {
      "cell_type": "code",
      "execution_count": null,
      "id": "ad82c3c9",
      "metadata": {
        "id": "ad82c3c9",
        "outputId": "dbd37316-3dad-4b3c-ec12-97c3892b3dd6"
      },
      "outputs": [
        {
          "data": {
            "text/html": [
              "<style>#sk-container-id-3 {color: black;}#sk-container-id-3 pre{padding: 0;}#sk-container-id-3 div.sk-toggleable {background-color: white;}#sk-container-id-3 label.sk-toggleable__label {cursor: pointer;display: block;width: 100%;margin-bottom: 0;padding: 0.3em;box-sizing: border-box;text-align: center;}#sk-container-id-3 label.sk-toggleable__label-arrow:before {content: \"▸\";float: left;margin-right: 0.25em;color: #696969;}#sk-container-id-3 label.sk-toggleable__label-arrow:hover:before {color: black;}#sk-container-id-3 div.sk-estimator:hover label.sk-toggleable__label-arrow:before {color: black;}#sk-container-id-3 div.sk-toggleable__content {max-height: 0;max-width: 0;overflow: hidden;text-align: left;background-color: #f0f8ff;}#sk-container-id-3 div.sk-toggleable__content pre {margin: 0.2em;color: black;border-radius: 0.25em;background-color: #f0f8ff;}#sk-container-id-3 input.sk-toggleable__control:checked~div.sk-toggleable__content {max-height: 200px;max-width: 100%;overflow: auto;}#sk-container-id-3 input.sk-toggleable__control:checked~label.sk-toggleable__label-arrow:before {content: \"▾\";}#sk-container-id-3 div.sk-estimator input.sk-toggleable__control:checked~label.sk-toggleable__label {background-color: #d4ebff;}#sk-container-id-3 div.sk-label input.sk-toggleable__control:checked~label.sk-toggleable__label {background-color: #d4ebff;}#sk-container-id-3 input.sk-hidden--visually {border: 0;clip: rect(1px 1px 1px 1px);clip: rect(1px, 1px, 1px, 1px);height: 1px;margin: -1px;overflow: hidden;padding: 0;position: absolute;width: 1px;}#sk-container-id-3 div.sk-estimator {font-family: monospace;background-color: #f0f8ff;border: 1px dotted black;border-radius: 0.25em;box-sizing: border-box;margin-bottom: 0.5em;}#sk-container-id-3 div.sk-estimator:hover {background-color: #d4ebff;}#sk-container-id-3 div.sk-parallel-item::after {content: \"\";width: 100%;border-bottom: 1px solid gray;flex-grow: 1;}#sk-container-id-3 div.sk-label:hover label.sk-toggleable__label {background-color: #d4ebff;}#sk-container-id-3 div.sk-serial::before {content: \"\";position: absolute;border-left: 1px solid gray;box-sizing: border-box;top: 0;bottom: 0;left: 50%;z-index: 0;}#sk-container-id-3 div.sk-serial {display: flex;flex-direction: column;align-items: center;background-color: white;padding-right: 0.2em;padding-left: 0.2em;position: relative;}#sk-container-id-3 div.sk-item {position: relative;z-index: 1;}#sk-container-id-3 div.sk-parallel {display: flex;align-items: stretch;justify-content: center;background-color: white;position: relative;}#sk-container-id-3 div.sk-item::before, #sk-container-id-3 div.sk-parallel-item::before {content: \"\";position: absolute;border-left: 1px solid gray;box-sizing: border-box;top: 0;bottom: 0;left: 50%;z-index: -1;}#sk-container-id-3 div.sk-parallel-item {display: flex;flex-direction: column;z-index: 1;position: relative;background-color: white;}#sk-container-id-3 div.sk-parallel-item:first-child::after {align-self: flex-end;width: 50%;}#sk-container-id-3 div.sk-parallel-item:last-child::after {align-self: flex-start;width: 50%;}#sk-container-id-3 div.sk-parallel-item:only-child::after {width: 0;}#sk-container-id-3 div.sk-dashed-wrapped {border: 1px dashed gray;margin: 0 0.4em 0.5em 0.4em;box-sizing: border-box;padding-bottom: 0.4em;background-color: white;}#sk-container-id-3 div.sk-label label {font-family: monospace;font-weight: bold;display: inline-block;line-height: 1.2em;}#sk-container-id-3 div.sk-label-container {text-align: center;}#sk-container-id-3 div.sk-container {/* jupyter's `normalize.less` sets `[hidden] { display: none; }` but bootstrap.min.css set `[hidden] { display: none !important; }` so we also need the `!important` here to be able to override the default hidden behavior on the sphinx rendered scikit-learn.org. See: https://github.com/scikit-learn/scikit-learn/issues/21755 */display: inline-block !important;position: relative;}#sk-container-id-3 div.sk-text-repr-fallback {display: none;}</style><div id=\"sk-container-id-3\" class=\"sk-top-container\"><div class=\"sk-text-repr-fallback\"><pre>RandomForestRegressor()</pre><b>In a Jupyter environment, please rerun this cell to show the HTML representation or trust the notebook. <br />On GitHub, the HTML representation is unable to render, please try loading this page with nbviewer.org.</b></div><div class=\"sk-container\" hidden><div class=\"sk-item\"><div class=\"sk-estimator sk-toggleable\"><input class=\"sk-toggleable__control sk-hidden--visually\" id=\"sk-estimator-id-3\" type=\"checkbox\" checked><label for=\"sk-estimator-id-3\" class=\"sk-toggleable__label sk-toggleable__label-arrow\">RandomForestRegressor</label><div class=\"sk-toggleable__content\"><pre>RandomForestRegressor()</pre></div></div></div></div></div>"
            ],
            "text/plain": [
              "RandomForestRegressor()"
            ]
          },
          "execution_count": 68,
          "metadata": {},
          "output_type": "execute_result"
        }
      ],
      "source": [
        "from sklearn.ensemble import RandomForestRegressor\n",
        "RF100 = RandomForestRegressor(n_estimators = 100)   #For 100 estimators\n",
        "RF100.fit(X_train, y_train)"
      ]
    },
    {
      "cell_type": "code",
      "execution_count": null,
      "id": "ed5bb748",
      "metadata": {
        "id": "ed5bb748"
      },
      "outputs": [],
      "source": [
        "y_predict = RF100.predict(X_test)"
      ]
    },
    {
      "cell_type": "code",
      "execution_count": null,
      "id": "e13ae0cc",
      "metadata": {
        "id": "e13ae0cc",
        "outputId": "b3003474-a9ae-4259-aadc-4d72d6a84d21"
      },
      "outputs": [
        {
          "data": {
            "text/plain": [
              "array([187.        , 187.        , 187.        , ..., 187.        ,\n",
              "       211.18845238, 187.        ])"
            ]
          },
          "execution_count": 70,
          "metadata": {},
          "output_type": "execute_result"
        }
      ],
      "source": [
        "y_predict"
      ]
    },
    {
      "cell_type": "code",
      "execution_count": null,
      "id": "2bff5e20",
      "metadata": {
        "id": "2bff5e20",
        "outputId": "be26791a-f108-4bf2-af08-284a78272464"
      },
      "outputs": [
        {
          "data": {
            "text/plain": [
              "0.9857481976611228"
            ]
          },
          "execution_count": 71,
          "metadata": {},
          "output_type": "execute_result"
        }
      ],
      "source": [
        "# Checking accuracy of the model\n",
        "\n",
        "RF100.score(X_test, y_test)"
      ]
    },
    {
      "cell_type": "code",
      "execution_count": null,
      "id": "e0e58fc0",
      "metadata": {
        "id": "e0e58fc0",
        "outputId": "caca2e30-394a-42ab-fe56-070820c22a30"
      },
      "outputs": [
        {
          "name": "stdout",
          "output_type": "stream",
          "text": [
            "Mean Squared Error:  26946.644973612685\n",
            "Mean Absolute Error:  18.391084225584414\n",
            "Root Mean Squared Error:  164.15433278964247\n"
          ]
        }
      ],
      "source": [
        "RF100_MSE = print('Mean Squared Error: ', metrics.mean_squared_error(y_test, y_predict))\n",
        "\n",
        "RF100_MAE = print('Mean Absolute Error: ', metrics.mean_absolute_error(y_test, y_predict))\n",
        "\n",
        "RF100_RMSE = print('Root Mean Squared Error: ', np.sqrt(metrics.mean_squared_error(y_test, y_predict)))"
      ]
    },
    {
      "cell_type": "code",
      "execution_count": null,
      "id": "94f05957",
      "metadata": {
        "id": "94f05957",
        "outputId": "9a4bc9a8-4858-4364-8749-5144bd3c1565"
      },
      "outputs": [
        {
          "data": {
            "image/png": "[encoded data removed]",
            "text/plain": [
              "<Figure size 640x480 with 1 Axes>"
            ]
          },
          "metadata": {},
          "output_type": "display_data"
        }
      ],
      "source": [
        "# Visualizing the prediction\n",
        "\n",
        "sns.scatterplot(x=y_test, y=y_predict )\n",
        "plt.title('Actual vs. Predicted Values (Random Forest 100 Regression)')\n",
        "plt.xlabel('Actual Number of Offenses')\n",
        "plt.ylabel('Predicted Number of Offences')\n",
        "plt.show()"
      ]
    },
    {
      "cell_type": "code",
      "execution_count": null,
      "id": "ad92b8a1",
      "metadata": {
        "id": "ad92b8a1"
      },
      "outputs": [],
      "source": [
        "RF_200 = RandomForestRegressor(n_estimators = 200)   #For 200 estimators\n",
        "RF_200.fit(X_train, y_train)\n",
        "y_predict = RF_200.predict(X_test)"
      ]
    },
    {
      "cell_type": "code",
      "execution_count": null,
      "id": "9103637e",
      "metadata": {
        "id": "9103637e",
        "outputId": "b0ec65bc-49d3-4aeb-d936-20ba8ef0c1e8"
      },
      "outputs": [
        {
          "data": {
            "text/plain": [
              "array([187.        , 187.        , 187.        , ..., 187.        ,\n",
              "       213.84004167, 187.        ])"
            ]
          },
          "execution_count": 75,
          "metadata": {},
          "output_type": "execute_result"
        }
      ],
      "source": [
        "y_predict"
      ]
    },
    {
      "cell_type": "code",
      "execution_count": null,
      "id": "9afcfcc8",
      "metadata": {
        "id": "9afcfcc8",
        "outputId": "72895bcc-b739-4823-ac46-6aba6920600f"
      },
      "outputs": [
        {
          "data": {
            "text/plain": [
              "0.9853929732810629"
            ]
          },
          "execution_count": 76,
          "metadata": {},
          "output_type": "execute_result"
        }
      ],
      "source": [
        "# Checking accuracy of the model\n",
        "\n",
        "RF_200.score(X_test, y_test)"
      ]
    },
    {
      "cell_type": "code",
      "execution_count": null,
      "id": "ce810a99",
      "metadata": {
        "id": "ce810a99",
        "outputId": "4f506b4b-a4fd-43a4-a999-f76280fd7d8b"
      },
      "outputs": [
        {
          "name": "stdout",
          "output_type": "stream",
          "text": [
            "Mean Squared Error:  27618.286709011587\n",
            "Mean Absolute Error:  18.396539581511917\n",
            "Root Mean Squared Error:  166.18750467171589\n"
          ]
        }
      ],
      "source": [
        "RF200_MSE = print('Mean Squared Error: ', metrics.mean_squared_error(y_test, y_predict))\n",
        "\n",
        "RF200_MAE = print('Mean Absolute Error: ', metrics.mean_absolute_error(y_test, y_predict))\n",
        "\n",
        "RF200_RMSE = print('Root Mean Squared Error: ', np.sqrt(metrics.mean_squared_error(y_test, y_predict)))"
      ]
    },
    {
      "cell_type": "code",
      "execution_count": null,
      "id": "3d6ecdf3",
      "metadata": {
        "id": "3d6ecdf3",
        "outputId": "06c06852-6991-42d8-8d8e-685b12059070"
      },
      "outputs": [
        {
          "data": {
            "image/png": "[encoded data removed]",
            "text/plain": [
              "<Figure size 640x480 with 1 Axes>"
            ]
          },
          "metadata": {},
          "output_type": "display_data"
        }
      ],
      "source": [
        "# Visualizing the prediction\n",
        "\n",
        "sns.scatterplot(x=y_test, y=y_predict)\n",
        "plt.title('Actual vs. Predicted Values (Random Forest 200 Regression)')\n",
        "plt.xlabel('Actual Number of Offenses')\n",
        "plt.ylabel('Predicted Number of Offences')\n",
        "plt.show()"
      ]
    },
    {
      "cell_type": "markdown",
      "id": "a75e7abe",
      "metadata": {
        "id": "a75e7abe"
      },
      "source": [
        "# Comparing the Different Models"
      ]
    },
    {
      "cell_type": "code",
      "execution_count": null,
      "id": "c62a84b5",
      "metadata": {
        "id": "c62a84b5"
      },
      "outputs": [],
      "source": [
        "RMSE_LINEAR = 1389.6306155518723\n",
        "RMSE_DT = 165.9454053313888\n",
        "RMSE_SVR_LINEAR = 1408.4774633511595\n",
        "RMSE_RF_100 =  164.15590853999177"
      ]
    },
    {
      "cell_type": "code",
      "execution_count": null,
      "id": "9f3135dd",
      "metadata": {
        "id": "9f3135dd"
      },
      "outputs": [],
      "source": [
        "models = ['Linear', 'DT', 'SVR Linear', 'RF100']"
      ]
    },
    {
      "cell_type": "code",
      "execution_count": null,
      "id": "00a10a13",
      "metadata": {
        "id": "00a10a13",
        "outputId": "54ab8345-900c-4871-e197-6282f2b44d41"
      },
      "outputs": [
        {
          "data": {
            "image/png": "[encoded data removed]",
            "text/plain": [
              "<Figure size 640x480 with 1 Axes>"
            ]
          },
          "metadata": {},
          "output_type": "display_data"
        }
      ],
      "source": [
        "# Values of the Root Mean Squared Errors\n",
        "rmse_values = [RMSE_LINEAR, RMSE_DT, RMSE_SVR_LINEAR, RMSE_RF_100]\n",
        "\n",
        "# Create bar chart\n",
        "plt.bar(models, rmse_values)\n",
        "\n",
        "# Adding the labels\n",
        "plt.xlabel(\"Models\")\n",
        "plt.ylabel(\"RMSE Values\")\n",
        "plt.title(\"RMSE Comaparison for Different Models\")\n",
        "\n",
        "plt.show()"
      ]
    },
    {
      "cell_type": "markdown",
      "id": "793cf10f",
      "metadata": {
        "id": "793cf10f"
      },
      "source": [
        "# Map Reduce"
      ]
    },
    {
      "cell_type": "code",
      "execution_count": null,
      "id": "245f5dc3",
      "metadata": {
        "id": "245f5dc3"
      },
      "outputs": [],
      "source": [
        "spark = SparkSession.builder.appName(\"Map Reduce\").getOrCreate()\n",
        "df_2013_14 = spark.read.csv(\"C:/Users/Emeka/Downloads/2013-14.csv\", header=True, inferSchema=True)\n",
        "df_2014_15 = spark.read.csv(\"C:/Users/Emeka/Downloads/2014-15.csv\", header=True, inferSchema=True)\n",
        "df_2015_16 = spark.read.csv(\"C:/Users/Emeka/Downloads/2015-16.csv\", header=True, inferSchema=True)\n",
        "df_2016_17 = spark.read.csv(\"C:/Users/Emeka/Downloads/2016-17.csv\", header=True, inferSchema=True)\n",
        "df_2017_18 = spark.read.csv(\"C:/Users/Emeka/Downloads/2017-18.csv\", header=True, inferSchema=True)\n",
        "df_final = df_2013_14.union(df_2014_15).union(df_2015_16).union(df_2016_17).union(df_2017_18)"
      ]
    },
    {
      "cell_type": "code",
      "execution_count": null,
      "id": "8f9bc673",
      "metadata": {
        "id": "8f9bc673"
      },
      "outputs": [],
      "source": [
        "from pyspark.sql.functions import col\n",
        "from pyspark.sql.functions import col, sum, count, avg, desc, max\n",
        "from pyspark.sql.window import Window\n",
        "from pyspark.sql import functions as F"
      ]
    },
    {
      "cell_type": "markdown",
      "id": "25d61686",
      "metadata": {
        "id": "25d61686"
      },
      "source": [
        "# Q1: Count of Offences by Offence Group"
      ]
    },
    {
      "cell_type": "code",
      "execution_count": null,
      "id": "36ad9a8c",
      "metadata": {
        "id": "36ad9a8c",
        "outputId": "51931c5f-bb1b-4470-cd75-9ec4907f73d1"
      },
      "outputs": [
        {
          "data": {
            "text/html": [
              "<div>\n",
              "<style scoped>\n",
              "    .dataframe tbody tr th:only-of-type {\n",
              "        vertical-align: middle;\n",
              "    }\n",
              "\n",
              "    .dataframe tbody tr th {\n",
              "        vertical-align: top;\n",
              "    }\n",
              "\n",
              "    .dataframe thead th {\n",
              "        text-align: right;\n",
              "    }\n",
              "</style>\n",
              "<table border=\"1\" class=\"dataframe\">\n",
              "  <thead>\n",
              "    <tr style=\"text-align: right;\">\n",
              "      <th></th>\n",
              "      <th>Offence Group</th>\n",
              "      <th>Count of Offences</th>\n",
              "    </tr>\n",
              "  </thead>\n",
              "  <tbody>\n",
              "    <tr>\n",
              "      <th>0</th>\n",
              "      <td>Violence against the person</td>\n",
              "      <td>25344</td>\n",
              "    </tr>\n",
              "    <tr>\n",
              "      <th>1</th>\n",
              "      <td>Possession of weapons offences</td>\n",
              "      <td>5280</td>\n",
              "    </tr>\n",
              "    <tr>\n",
              "      <th>2</th>\n",
              "      <td>Criminal damage and arson</td>\n",
              "      <td>6160</td>\n",
              "    </tr>\n",
              "    <tr>\n",
              "      <th>3</th>\n",
              "      <td>Miscellaneous crimes against society</td>\n",
              "      <td>20944</td>\n",
              "    </tr>\n",
              "    <tr>\n",
              "      <th>4</th>\n",
              "      <td>Sexual offences</td>\n",
              "      <td>19360</td>\n",
              "    </tr>\n",
              "    <tr>\n",
              "      <th>5</th>\n",
              "      <td>Fraud offences</td>\n",
              "      <td>60</td>\n",
              "    </tr>\n",
              "    <tr>\n",
              "      <th>6</th>\n",
              "      <td>Robbery</td>\n",
              "      <td>1760</td>\n",
              "    </tr>\n",
              "    <tr>\n",
              "      <th>7</th>\n",
              "      <td>Theft offences</td>\n",
              "      <td>21648</td>\n",
              "    </tr>\n",
              "    <tr>\n",
              "      <th>8</th>\n",
              "      <td>Drug offences</td>\n",
              "      <td>3520</td>\n",
              "    </tr>\n",
              "    <tr>\n",
              "      <th>9</th>\n",
              "      <td>Public order offences</td>\n",
              "      <td>3520</td>\n",
              "    </tr>\n",
              "  </tbody>\n",
              "</table>\n",
              "</div>"
            ],
            "text/plain": [
              "                          Offence Group  Count of Offences\n",
              "0           Violence against the person              25344\n",
              "1        Possession of weapons offences               5280\n",
              "2             Criminal damage and arson               6160\n",
              "3  Miscellaneous crimes against society              20944\n",
              "4                       Sexual offences              19360\n",
              "5                        Fraud offences                 60\n",
              "6                               Robbery               1760\n",
              "7                        Theft offences              21648\n",
              "8                         Drug offences               3520\n",
              "9                 Public order offences               3520"
            ]
          },
          "execution_count": 84,
          "metadata": {},
          "output_type": "execute_result"
        }
      ],
      "source": [
        "# Select relevant columns\n",
        "df_filtered = df_final.select(\"Offence Group\", \"Number of Offences\")\n",
        "\n",
        "# Create key-value pairs (Offence Group, 1) for counting\n",
        "df_mapped = df_filtered.rdd.map(lambda row: (row[\"Offence Group\"], 1))\n",
        "\n",
        "# Reduce by key (Offence Group) and count occurrences\n",
        "df_reduced = df_mapped.reduceByKey(lambda x, y: x + y)\n",
        "\n",
        "# Convert back to DataFrame and display\n",
        "df_result = df_reduced.toDF([\"Offence Group\", \"Count of Offences\"])\n",
        "\n",
        "df_result.toPandas()"
      ]
    },
    {
      "cell_type": "markdown",
      "id": "57566ff4",
      "metadata": {
        "id": "57566ff4"
      },
      "source": [
        "# Q2: Count of Offences by Financial Year"
      ]
    },
    {
      "cell_type": "code",
      "execution_count": null,
      "id": "be116ca6",
      "metadata": {
        "id": "be116ca6",
        "outputId": "e3bcc8a9-c821-49ae-aede-a38eb3bdebd8"
      },
      "outputs": [
        {
          "data": {
            "text/html": [
              "<div>\n",
              "<style scoped>\n",
              "    .dataframe tbody tr th:only-of-type {\n",
              "        vertical-align: middle;\n",
              "    }\n",
              "\n",
              "    .dataframe tbody tr th {\n",
              "        vertical-align: top;\n",
              "    }\n",
              "\n",
              "    .dataframe thead th {\n",
              "        text-align: right;\n",
              "    }\n",
              "</style>\n",
              "<table border=\"1\" class=\"dataframe\">\n",
              "  <thead>\n",
              "    <tr style=\"text-align: right;\">\n",
              "      <th></th>\n",
              "      <th>Financial Year</th>\n",
              "      <th>Count of Offences</th>\n",
              "    </tr>\n",
              "  </thead>\n",
              "  <tbody>\n",
              "    <tr>\n",
              "      <th>0</th>\n",
              "      <td>2015/16</td>\n",
              "      <td>21308</td>\n",
              "    </tr>\n",
              "    <tr>\n",
              "      <th>1</th>\n",
              "      <td>2016/17</td>\n",
              "      <td>21308</td>\n",
              "    </tr>\n",
              "    <tr>\n",
              "      <th>2</th>\n",
              "      <td>2014/15</td>\n",
              "      <td>21132</td>\n",
              "    </tr>\n",
              "    <tr>\n",
              "      <th>3</th>\n",
              "      <td>2017/18</td>\n",
              "      <td>23068</td>\n",
              "    </tr>\n",
              "    <tr>\n",
              "      <th>4</th>\n",
              "      <td>2013/14</td>\n",
              "      <td>20780</td>\n",
              "    </tr>\n",
              "  </tbody>\n",
              "</table>\n",
              "</div>"
            ],
            "text/plain": [
              "  Financial Year  Count of Offences\n",
              "0        2015/16              21308\n",
              "1        2016/17              21308\n",
              "2        2014/15              21132\n",
              "3        2017/18              23068\n",
              "4        2013/14              20780"
            ]
          },
          "execution_count": 85,
          "metadata": {},
          "output_type": "execute_result"
        }
      ],
      "source": [
        "# Select relevant columns\n",
        "df_mapped_year = df_final.select(\"Financial Year\", \"Number of Offences\")\n",
        "\n",
        "# Create key-value pairs (Financial Year, 1) for counting\n",
        "df_mapped_year = df_mapped_year.rdd.map(lambda row: (row[\"Financial Year\"], 1))\n",
        "\n",
        "# Reduce by key (Financial Year) and count occurrences\n",
        "df_reduced_year = df_mapped_year.reduceByKey(lambda x, y: x + y)\n",
        "\n",
        "# Convert back to DataFrame and display\n",
        "df_result_year = df_reduced_year.toDF([\"Financial Year\", \"Count of Offences\"])\n",
        "\n",
        "df_result_year.toPandas()"
      ]
    },
    {
      "cell_type": "markdown",
      "id": "9d26ec0d",
      "metadata": {
        "id": "9d26ec0d"
      },
      "source": [
        "# Q1: Least Common Offence Description"
      ]
    },
    {
      "cell_type": "code",
      "execution_count": null,
      "id": "8ae4e8d9",
      "metadata": {
        "id": "8ae4e8d9",
        "outputId": "f14e2d14-1c1f-44e5-dd63-41565bf0bfd0"
      },
      "outputs": [
        {
          "data": {
            "text/html": [
              "<div>\n",
              "<style scoped>\n",
              "    .dataframe tbody tr th:only-of-type {\n",
              "        vertical-align: middle;\n",
              "    }\n",
              "\n",
              "    .dataframe tbody tr th {\n",
              "        vertical-align: top;\n",
              "    }\n",
              "\n",
              "    .dataframe thead th {\n",
              "        text-align: right;\n",
              "    }\n",
              "</style>\n",
              "<table border=\"1\" class=\"dataframe\">\n",
              "  <thead>\n",
              "    <tr style=\"text-align: right;\">\n",
              "      <th></th>\n",
              "      <th>Offence Description</th>\n",
              "      <th>Least Common</th>\n",
              "    </tr>\n",
              "  </thead>\n",
              "  <tbody>\n",
              "    <tr>\n",
              "      <th>0</th>\n",
              "      <td>Fraud offences recorded by UK Finance</td>\n",
              "      <td>3</td>\n",
              "    </tr>\n",
              "  </tbody>\n",
              "</table>\n",
              "</div>"
            ],
            "text/plain": [
              "                     Offence Description  Least Common\n",
              "0  Fraud offences recorded by UK Finance             3"
            ]
          },
          "execution_count": 86,
          "metadata": {},
          "output_type": "execute_result"
        }
      ],
      "source": [
        "least_common = df_final.groupBy(\"Offence Description\").agg(count(\"*\").alias(\"Least Common\")) \\\n",
        "    .orderBy(F.asc(col(\"Least Common\"))).limit(1)\n",
        "least_common.toPandas()"
      ]
    },
    {
      "cell_type": "markdown",
      "id": "41aa155b",
      "metadata": {
        "id": "41aa155b"
      },
      "source": [
        "# Q2: Force with the Highest Number of Offences"
      ]
    },
    {
      "cell_type": "code",
      "execution_count": null,
      "id": "cb48c5a8",
      "metadata": {
        "id": "cb48c5a8",
        "outputId": "f0ade958-9db3-49b1-cdcb-b4cede814c67"
      },
      "outputs": [
        {
          "data": {
            "text/html": [
              "<div>\n",
              "<style scoped>\n",
              "    .dataframe tbody tr th:only-of-type {\n",
              "        vertical-align: middle;\n",
              "    }\n",
              "\n",
              "    .dataframe tbody tr th {\n",
              "        vertical-align: top;\n",
              "    }\n",
              "\n",
              "    .dataframe thead th {\n",
              "        text-align: right;\n",
              "    }\n",
              "</style>\n",
              "<table border=\"1\" class=\"dataframe\">\n",
              "  <thead>\n",
              "    <tr style=\"text-align: right;\">\n",
              "      <th></th>\n",
              "      <th>Force Name</th>\n",
              "      <th>Total Offences</th>\n",
              "    </tr>\n",
              "  </thead>\n",
              "  <tbody>\n",
              "    <tr>\n",
              "      <th>0</th>\n",
              "      <td>Metropolitan Police</td>\n",
              "      <td>3737442</td>\n",
              "    </tr>\n",
              "  </tbody>\n",
              "</table>\n",
              "</div>"
            ],
            "text/plain": [
              "            Force Name  Total Offences\n",
              "0  Metropolitan Police         3737442"
            ]
          },
          "execution_count": 87,
          "metadata": {},
          "output_type": "execute_result"
        }
      ],
      "source": [
        "force_low = df_final.groupBy(\"Force Name\") \\\n",
        "    .agg(sum(\"Number of Offences\").alias(\"Total Offences\")) \\\n",
        "    .orderBy(F.desc(col(\"Total Offences\"))) \\\n",
        "    .select(\"Force Name\", \"Total Offences\") \\\n",
        "    .limit(1)\n",
        "\n",
        "force_low.toPandas()"
      ]
    },
    {
      "cell_type": "markdown",
      "id": "362e5c35",
      "metadata": {
        "id": "362e5c35"
      },
      "source": [
        "# Q3: Offence Distribution by Financial Year and Offence Group"
      ]
    },
    {
      "cell_type": "code",
      "execution_count": null,
      "id": "f357b411",
      "metadata": {
        "id": "f357b411",
        "outputId": "e0bdd51b-3c92-4f91-fd9f-c927556feff6"
      },
      "outputs": [
        {
          "data": {
            "text/html": [
              "<div>\n",
              "<style scoped>\n",
              "    .dataframe tbody tr th:only-of-type {\n",
              "        vertical-align: middle;\n",
              "    }\n",
              "\n",
              "    .dataframe tbody tr th {\n",
              "        vertical-align: top;\n",
              "    }\n",
              "\n",
              "    .dataframe thead th {\n",
              "        text-align: right;\n",
              "    }\n",
              "</style>\n",
              "<table border=\"1\" class=\"dataframe\">\n",
              "  <thead>\n",
              "    <tr style=\"text-align: right;\">\n",
              "      <th></th>\n",
              "      <th>Financial Year</th>\n",
              "      <th>Offence Group</th>\n",
              "      <th>Total</th>\n",
              "    </tr>\n",
              "  </thead>\n",
              "  <tbody>\n",
              "    <tr>\n",
              "      <th>0</th>\n",
              "      <td>2013/14</td>\n",
              "      <td>Criminal damage and arson</td>\n",
              "      <td>1232</td>\n",
              "    </tr>\n",
              "    <tr>\n",
              "      <th>1</th>\n",
              "      <td>2013/14</td>\n",
              "      <td>Drug offences</td>\n",
              "      <td>704</td>\n",
              "    </tr>\n",
              "    <tr>\n",
              "      <th>2</th>\n",
              "      <td>2013/14</td>\n",
              "      <td>Fraud offences</td>\n",
              "      <td>12</td>\n",
              "    </tr>\n",
              "    <tr>\n",
              "      <th>3</th>\n",
              "      <td>2013/14</td>\n",
              "      <td>Miscellaneous crimes against society</td>\n",
              "      <td>4048</td>\n",
              "    </tr>\n",
              "    <tr>\n",
              "      <th>4</th>\n",
              "      <td>2013/14</td>\n",
              "      <td>Possession of weapons offences</td>\n",
              "      <td>1056</td>\n",
              "    </tr>\n",
              "    <tr>\n",
              "      <th>5</th>\n",
              "      <td>2013/14</td>\n",
              "      <td>Public order offences</td>\n",
              "      <td>704</td>\n",
              "    </tr>\n",
              "    <tr>\n",
              "      <th>6</th>\n",
              "      <td>2013/14</td>\n",
              "      <td>Robbery</td>\n",
              "      <td>352</td>\n",
              "    </tr>\n",
              "    <tr>\n",
              "      <th>7</th>\n",
              "      <td>2013/14</td>\n",
              "      <td>Sexual offences</td>\n",
              "      <td>3872</td>\n",
              "    </tr>\n",
              "    <tr>\n",
              "      <th>8</th>\n",
              "      <td>2013/14</td>\n",
              "      <td>Theft offences</td>\n",
              "      <td>4048</td>\n",
              "    </tr>\n",
              "    <tr>\n",
              "      <th>9</th>\n",
              "      <td>2013/14</td>\n",
              "      <td>Violence against the person</td>\n",
              "      <td>4752</td>\n",
              "    </tr>\n",
              "    <tr>\n",
              "      <th>10</th>\n",
              "      <td>2014/15</td>\n",
              "      <td>Criminal damage and arson</td>\n",
              "      <td>1232</td>\n",
              "    </tr>\n",
              "    <tr>\n",
              "      <th>11</th>\n",
              "      <td>2014/15</td>\n",
              "      <td>Drug offences</td>\n",
              "      <td>704</td>\n",
              "    </tr>\n",
              "    <tr>\n",
              "      <th>12</th>\n",
              "      <td>2014/15</td>\n",
              "      <td>Fraud offences</td>\n",
              "      <td>12</td>\n",
              "    </tr>\n",
              "    <tr>\n",
              "      <th>13</th>\n",
              "      <td>2014/15</td>\n",
              "      <td>Miscellaneous crimes against society</td>\n",
              "      <td>4224</td>\n",
              "    </tr>\n",
              "    <tr>\n",
              "      <th>14</th>\n",
              "      <td>2014/15</td>\n",
              "      <td>Possession of weapons offences</td>\n",
              "      <td>1056</td>\n",
              "    </tr>\n",
              "    <tr>\n",
              "      <th>15</th>\n",
              "      <td>2014/15</td>\n",
              "      <td>Public order offences</td>\n",
              "      <td>704</td>\n",
              "    </tr>\n",
              "    <tr>\n",
              "      <th>16</th>\n",
              "      <td>2014/15</td>\n",
              "      <td>Robbery</td>\n",
              "      <td>352</td>\n",
              "    </tr>\n",
              "    <tr>\n",
              "      <th>17</th>\n",
              "      <td>2014/15</td>\n",
              "      <td>Sexual offences</td>\n",
              "      <td>3872</td>\n",
              "    </tr>\n",
              "    <tr>\n",
              "      <th>18</th>\n",
              "      <td>2014/15</td>\n",
              "      <td>Theft offences</td>\n",
              "      <td>4048</td>\n",
              "    </tr>\n",
              "    <tr>\n",
              "      <th>19</th>\n",
              "      <td>2014/15</td>\n",
              "      <td>Violence against the person</td>\n",
              "      <td>4928</td>\n",
              "    </tr>\n",
              "    <tr>\n",
              "      <th>20</th>\n",
              "      <td>2015/16</td>\n",
              "      <td>Criminal damage and arson</td>\n",
              "      <td>1232</td>\n",
              "    </tr>\n",
              "    <tr>\n",
              "      <th>21</th>\n",
              "      <td>2015/16</td>\n",
              "      <td>Drug offences</td>\n",
              "      <td>704</td>\n",
              "    </tr>\n",
              "    <tr>\n",
              "      <th>22</th>\n",
              "      <td>2015/16</td>\n",
              "      <td>Fraud offences</td>\n",
              "      <td>12</td>\n",
              "    </tr>\n",
              "    <tr>\n",
              "      <th>23</th>\n",
              "      <td>2015/16</td>\n",
              "      <td>Miscellaneous crimes against society</td>\n",
              "      <td>4224</td>\n",
              "    </tr>\n",
              "    <tr>\n",
              "      <th>24</th>\n",
              "      <td>2015/16</td>\n",
              "      <td>Possession of weapons offences</td>\n",
              "      <td>1056</td>\n",
              "    </tr>\n",
              "    <tr>\n",
              "      <th>25</th>\n",
              "      <td>2015/16</td>\n",
              "      <td>Public order offences</td>\n",
              "      <td>704</td>\n",
              "    </tr>\n",
              "    <tr>\n",
              "      <th>26</th>\n",
              "      <td>2015/16</td>\n",
              "      <td>Robbery</td>\n",
              "      <td>352</td>\n",
              "    </tr>\n",
              "    <tr>\n",
              "      <th>27</th>\n",
              "      <td>2015/16</td>\n",
              "      <td>Sexual offences</td>\n",
              "      <td>3872</td>\n",
              "    </tr>\n",
              "    <tr>\n",
              "      <th>28</th>\n",
              "      <td>2015/16</td>\n",
              "      <td>Theft offences</td>\n",
              "      <td>4048</td>\n",
              "    </tr>\n",
              "    <tr>\n",
              "      <th>29</th>\n",
              "      <td>2015/16</td>\n",
              "      <td>Violence against the person</td>\n",
              "      <td>5104</td>\n",
              "    </tr>\n",
              "    <tr>\n",
              "      <th>30</th>\n",
              "      <td>2016/17</td>\n",
              "      <td>Criminal damage and arson</td>\n",
              "      <td>1232</td>\n",
              "    </tr>\n",
              "    <tr>\n",
              "      <th>31</th>\n",
              "      <td>2016/17</td>\n",
              "      <td>Drug offences</td>\n",
              "      <td>704</td>\n",
              "    </tr>\n",
              "    <tr>\n",
              "      <th>32</th>\n",
              "      <td>2016/17</td>\n",
              "      <td>Fraud offences</td>\n",
              "      <td>12</td>\n",
              "    </tr>\n",
              "    <tr>\n",
              "      <th>33</th>\n",
              "      <td>2016/17</td>\n",
              "      <td>Miscellaneous crimes against society</td>\n",
              "      <td>4224</td>\n",
              "    </tr>\n",
              "    <tr>\n",
              "      <th>34</th>\n",
              "      <td>2016/17</td>\n",
              "      <td>Possession of weapons offences</td>\n",
              "      <td>1056</td>\n",
              "    </tr>\n",
              "    <tr>\n",
              "      <th>35</th>\n",
              "      <td>2016/17</td>\n",
              "      <td>Public order offences</td>\n",
              "      <td>704</td>\n",
              "    </tr>\n",
              "    <tr>\n",
              "      <th>36</th>\n",
              "      <td>2016/17</td>\n",
              "      <td>Robbery</td>\n",
              "      <td>352</td>\n",
              "    </tr>\n",
              "    <tr>\n",
              "      <th>37</th>\n",
              "      <td>2016/17</td>\n",
              "      <td>Sexual offences</td>\n",
              "      <td>3872</td>\n",
              "    </tr>\n",
              "    <tr>\n",
              "      <th>38</th>\n",
              "      <td>2016/17</td>\n",
              "      <td>Theft offences</td>\n",
              "      <td>4048</td>\n",
              "    </tr>\n",
              "    <tr>\n",
              "      <th>39</th>\n",
              "      <td>2016/17</td>\n",
              "      <td>Violence against the person</td>\n",
              "      <td>5104</td>\n",
              "    </tr>\n",
              "    <tr>\n",
              "      <th>40</th>\n",
              "      <td>2017/18</td>\n",
              "      <td>Criminal damage and arson</td>\n",
              "      <td>1232</td>\n",
              "    </tr>\n",
              "    <tr>\n",
              "      <th>41</th>\n",
              "      <td>2017/18</td>\n",
              "      <td>Drug offences</td>\n",
              "      <td>704</td>\n",
              "    </tr>\n",
              "    <tr>\n",
              "      <th>42</th>\n",
              "      <td>2017/18</td>\n",
              "      <td>Fraud offences</td>\n",
              "      <td>12</td>\n",
              "    </tr>\n",
              "    <tr>\n",
              "      <th>43</th>\n",
              "      <td>2017/18</td>\n",
              "      <td>Miscellaneous crimes against society</td>\n",
              "      <td>4224</td>\n",
              "    </tr>\n",
              "    <tr>\n",
              "      <th>44</th>\n",
              "      <td>2017/18</td>\n",
              "      <td>Possession of weapons offences</td>\n",
              "      <td>1056</td>\n",
              "    </tr>\n",
              "    <tr>\n",
              "      <th>45</th>\n",
              "      <td>2017/18</td>\n",
              "      <td>Public order offences</td>\n",
              "      <td>704</td>\n",
              "    </tr>\n",
              "    <tr>\n",
              "      <th>46</th>\n",
              "      <td>2017/18</td>\n",
              "      <td>Robbery</td>\n",
              "      <td>352</td>\n",
              "    </tr>\n",
              "    <tr>\n",
              "      <th>47</th>\n",
              "      <td>2017/18</td>\n",
              "      <td>Sexual offences</td>\n",
              "      <td>3872</td>\n",
              "    </tr>\n",
              "    <tr>\n",
              "      <th>48</th>\n",
              "      <td>2017/18</td>\n",
              "      <td>Theft offences</td>\n",
              "      <td>5456</td>\n",
              "    </tr>\n",
              "    <tr>\n",
              "      <th>49</th>\n",
              "      <td>2017/18</td>\n",
              "      <td>Violence against the person</td>\n",
              "      <td>5456</td>\n",
              "    </tr>\n",
              "  </tbody>\n",
              "</table>\n",
              "</div>"
            ],
            "text/plain": [
              "   Financial Year                         Offence Group  Total\n",
              "0         2013/14             Criminal damage and arson   1232\n",
              "1         2013/14                         Drug offences    704\n",
              "2         2013/14                        Fraud offences     12\n",
              "3         2013/14  Miscellaneous crimes against society   4048\n",
              "4         2013/14        Possession of weapons offences   1056\n",
              "5         2013/14                 Public order offences    704\n",
              "6         2013/14                               Robbery    352\n",
              "7         2013/14                       Sexual offences   3872\n",
              "8         2013/14                        Theft offences   4048\n",
              "9         2013/14           Violence against the person   4752\n",
              "10        2014/15             Criminal damage and arson   1232\n",
              "11        2014/15                         Drug offences    704\n",
              "12        2014/15                        Fraud offences     12\n",
              "13        2014/15  Miscellaneous crimes against society   4224\n",
              "14        2014/15        Possession of weapons offences   1056\n",
              "15        2014/15                 Public order offences    704\n",
              "16        2014/15                               Robbery    352\n",
              "17        2014/15                       Sexual offences   3872\n",
              "18        2014/15                        Theft offences   4048\n",
              "19        2014/15           Violence against the person   4928\n",
              "20        2015/16             Criminal damage and arson   1232\n",
              "21        2015/16                         Drug offences    704\n",
              "22        2015/16                        Fraud offences     12\n",
              "23        2015/16  Miscellaneous crimes against society   4224\n",
              "24        2015/16        Possession of weapons offences   1056\n",
              "25        2015/16                 Public order offences    704\n",
              "26        2015/16                               Robbery    352\n",
              "27        2015/16                       Sexual offences   3872\n",
              "28        2015/16                        Theft offences   4048\n",
              "29        2015/16           Violence against the person   5104\n",
              "30        2016/17             Criminal damage and arson   1232\n",
              "31        2016/17                         Drug offences    704\n",
              "32        2016/17                        Fraud offences     12\n",
              "33        2016/17  Miscellaneous crimes against society   4224\n",
              "34        2016/17        Possession of weapons offences   1056\n",
              "35        2016/17                 Public order offences    704\n",
              "36        2016/17                               Robbery    352\n",
              "37        2016/17                       Sexual offences   3872\n",
              "38        2016/17                        Theft offences   4048\n",
              "39        2016/17           Violence against the person   5104\n",
              "40        2017/18             Criminal damage and arson   1232\n",
              "41        2017/18                         Drug offences    704\n",
              "42        2017/18                        Fraud offences     12\n",
              "43        2017/18  Miscellaneous crimes against society   4224\n",
              "44        2017/18        Possession of weapons offences   1056\n",
              "45        2017/18                 Public order offences    704\n",
              "46        2017/18                               Robbery    352\n",
              "47        2017/18                       Sexual offences   3872\n",
              "48        2017/18                        Theft offences   5456\n",
              "49        2017/18           Violence against the person   5456"
            ]
          },
          "execution_count": 88,
          "metadata": {},
          "output_type": "execute_result"
        }
      ],
      "source": [
        "offence_distribution_by_year_group = df_final.groupBy(\"Financial Year\", \"Offence Group\") \\\n",
        "    .agg(count(\"*\").alias(\"Total\")) \\\n",
        "    .orderBy(\"Financial Year\", \"Offence Group\")\n",
        "\n",
        "offence_distribution_by_year_group.toPandas()\n"
      ]
    },
    {
      "cell_type": "markdown",
      "id": "03e5ca9f",
      "metadata": {
        "id": "03e5ca9f"
      },
      "source": [
        "# Q4: Force with the Highest Average of Total Offences"
      ]
    },
    {
      "cell_type": "code",
      "execution_count": null,
      "id": "dca26b5c",
      "metadata": {
        "id": "dca26b5c",
        "outputId": "a7e8fe1c-c467-47f6-f965-e59fab062122"
      },
      "outputs": [
        {
          "data": {
            "text/html": [
              "<div>\n",
              "<style scoped>\n",
              "    .dataframe tbody tr th:only-of-type {\n",
              "        vertical-align: middle;\n",
              "    }\n",
              "\n",
              "    .dataframe tbody tr th {\n",
              "        vertical-align: top;\n",
              "    }\n",
              "\n",
              "    .dataframe thead th {\n",
              "        text-align: right;\n",
              "    }\n",
              "</style>\n",
              "<table border=\"1\" class=\"dataframe\">\n",
              "  <thead>\n",
              "    <tr style=\"text-align: right;\">\n",
              "      <th></th>\n",
              "      <th>Force Name</th>\n",
              "      <th>avg(Number of Offences)</th>\n",
              "    </tr>\n",
              "  </thead>\n",
              "  <tbody>\n",
              "    <tr>\n",
              "      <th>0</th>\n",
              "      <td>CIFAS</td>\n",
              "      <td>69249.25</td>\n",
              "    </tr>\n",
              "  </tbody>\n",
              "</table>\n",
              "</div>"
            ],
            "text/plain": [
              "  Force Name  avg(Number of Offences)\n",
              "0      CIFAS                 69249.25"
            ]
          },
          "execution_count": 89,
          "metadata": {},
          "output_type": "execute_result"
        }
      ],
      "source": [
        "avg_force_offences = df_final.groupBy(\"Force Name\").avg(\"Number of Offences\").orderBy(F.desc(\"avg(Number of Offences)\")) \\\n",
        "    .limit(1)\n",
        "avg_force_offences.toPandas()"
      ]
    },
    {
      "cell_type": "code",
      "execution_count": null,
      "id": "d0162ae6",
      "metadata": {
        "id": "d0162ae6"
      },
      "outputs": [],
      "source": []
    }
  ],
  "metadata": {
    "kernelspec": {
      "display_name": "Python 3 (ipykernel)",
      "language": "python",
      "name": "python3"
    },
    "language_info": {
      "codemirror_mode": {
        "name": "ipython",
        "version": 3
      },
      "file_extension": ".py",
      "mimetype": "text/x-python",
      "name": "python",
      "nbconvert_exporter": "python",
      "pygments_lexer": "ipython3",
      "version": "3.11.5"
    },
    "colab": {
      "provenance": []
    }
  },
  "nbformat": 4,
  "nbformat_minor": 5
}